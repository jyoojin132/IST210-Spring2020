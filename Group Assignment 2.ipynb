{
  "nbformat": 4,
  "nbformat_minor": 0,
  "metadata": {
    "colab": {
      "name": "Untitled0.ipynb",
      "provenance": [],
      "authorship_tag": "ABX9TyPB3oEH2GfiGKOnsmIBZh2p",
      "include_colab_link": true
    },
    "kernelspec": {
      "name": "python3",
      "display_name": "Python 3"
    }
  },
  "cells": [
    {
      "cell_type": "markdown",
      "metadata": {
        "id": "view-in-github",
        "colab_type": "text"
      },
      "source": [
        "<a href=\"https://colab.research.google.com/github/jyoojin132/IST210-Spring2020/blob/master/Group%20Assignment%202.ipynb\" target=\"_parent\"><img src=\"https://colab.research.google.com/assets/colab-badge.svg\" alt=\"Open In Colab\"/></a>"
      ]
    },
    {
      "cell_type": "code",
      "metadata": {
        "id": "OPel04VY311Z",
        "colab_type": "code",
        "colab": {}
      },
      "source": [
        ""
      ],
      "execution_count": 0,
      "outputs": []
    },
    {
      "cell_type": "markdown",
      "metadata": {
        "id": "qZNBspKV4Dhr",
        "colab_type": "text"
      },
      "source": [
        "Group 13 \n",
        "<p>Our diagram is conveying the relationships between entities within a bookstore. Our entities include a bookstore store business, aisles, books, cafe, genres, \n",
        "and store employees. To start from book store business, the PK was Store ID and \n",
        "under that, there were three FKs. The FKs are cafe number, employee number, and \n",
        "aisle and other entities there are address and hour. Looking into Store ID, it contains a cafe. The PK for the cafe is Cafe ID and the location and the employee ID are the FKs. Except for those entities, there are Hours Of Operation and the menu. From the FP Employee number works with store employees. So, the PK for store employees is Employee ID and the other entities are position, first name, last name, and phone number. Also, this Store Employee diagram contains the cafe’s employee ids. Going back to the book store business diagram, the FK aisles contain the store aisles and connected to the PK Aisles ID. Under that, there are two FKs and it is genre and ISBN and the other entity is the shelf. For the FK Genre, it is the Genre ID so, their connection it (1,1). For the ISBN, it is connected with books so, the PK is ISBN and the FK is a genre and also tow entities price and pages. The FK in Genre is connected to the genres ID as a PK. Overall, we wanted to plan out a smooth diagram that connects all the 6 digrams to each other. Also, we focused on making the diagram look clean and easy to read.</p>\n",
        "\n"
      ]
    },
    {
      "cell_type": "markdown",
      "metadata": {
        "id": "3zvqNDV84GQ7",
        "colab_type": "text"
      },
      "source": [
        "![alt text](https://raw.githubusercontent.com/jyoojin132/IST210-Spring2020/master/Group%20Assignment%202.png)"
      ]
    }
  ]
}