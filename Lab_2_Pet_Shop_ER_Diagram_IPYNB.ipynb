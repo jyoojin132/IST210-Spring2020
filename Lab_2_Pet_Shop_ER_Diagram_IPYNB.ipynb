{
  "nbformat": 4,
  "nbformat_minor": 0,
  "metadata": {
    "colab": {
      "name": "Lab 2: Pet Shop ER Diagram.IPYNB",
      "provenance": [],
      "authorship_tag": "ABX9TyNOtK5o+ZTG8p0BmnzU8zO7",
      "include_colab_link": true
    },
    "kernelspec": {
      "name": "python3",
      "display_name": "Python 3"
    }
  },
  "cells": [
    {
      "cell_type": "markdown",
      "metadata": {
        "id": "view-in-github",
        "colab_type": "text"
      },
      "source": [
        "<a href=\"https://colab.research.google.com/github/jyoojin132/IST210-Spring2020/blob/master/Lab_2_Pet_Shop_ER_Diagram_IPYNB.ipynb\" target=\"_parent\"><img src=\"https://colab.research.google.com/assets/colab-badge.svg\" alt=\"Open In Colab\"/></a>"
      ]
    },
    {
      "cell_type": "markdown",
      "metadata": {
        "id": "jx3wtinIFKVP",
        "colab_type": "text"
      },
      "source": [
        "I have tried to make the ER diagram as simple as possible. I tried to use a complete entity-relationship diagram (ERD) using Crow's foot notation, which includes Entities, Attributes, Primary Keys for each Entity, Foreign Keys (where needed), Relationships (including a verb), Connectivity, and Cardinality. My 6 big tables are pets, enclosure, food, transaction food, customer, and transaction pet. I also added the primary keys and foreign keys for each table. Under every table, I tried to add at least there information factors that I can identify the table. For example, in the pet table, there is enclosure, food, color, and age. For other tables, I tried to make the information as unique and distinctive as possible. "
      ]
    },
    {
      "cell_type": "markdown",
      "metadata": {
        "id": "45d8anFdHZE1",
        "colab_type": "text"
      },
      "source": [
        "\n",
        "![alt text](https://raw.githubusercontent.com/jyoojin132/IST210-Spring2020/master/Lab%202%20Pet%20Shop%20ER%20Diagram.png)"
      ]
    },
    {
      "cell_type": "code",
      "metadata": {
        "id": "ULkY33GdIstF",
        "colab_type": "code",
        "colab": {}
      },
      "source": [
        ""
      ],
      "execution_count": 0,
      "outputs": []
    }
  ]
}