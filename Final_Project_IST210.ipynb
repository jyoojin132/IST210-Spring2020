{
  "nbformat": 4,
  "nbformat_minor": 0,
  "metadata": {
    "colab": {
      "name": "Final Project IST210.ipynb",
      "provenance": [],
      "include_colab_link": true
    },
    "kernelspec": {
      "name": "python3",
      "display_name": "Python 3"
    }
  },
  "cells": [
    {
      "cell_type": "markdown",
      "metadata": {
        "id": "view-in-github",
        "colab_type": "text"
      },
      "source": [
        "<a href=\"https://colab.research.google.com/github/jyoojin132/IST210-Spring2020/blob/master/Final_Project_IST210.ipynb\" target=\"_parent\"><img src=\"https://colab.research.google.com/assets/colab-badge.svg\" alt=\"Open In Colab\"/></a>"
      ]
    },
    {
      "cell_type": "markdown",
      "metadata": {
        "id": "jP6u8mQ7RiJp",
        "colab_type": "text"
      },
      "source": [
        "#Final Project \n",
        "##By: Alexander Christopher, Justin Cancelliere, Yoo Jin Jeong\n",
        "\n",
        "\n",
        "##Introduction\n",
        "Our idea is for a Bookstore business. We plan to gather data regarding the customers’ wants such as the book they are looking for, the genre, where it is located, the price, and whether or not they want to utilize the cafe. This idea is unique as it uses information and data from a bookstore and uses it to convey typical data that would be collected in a scenario similar. This business is not brand new as it borrows from the bookstore Blueprint and we liked this business because we can add and change structures within the business. A typical interaction at the bookstore would go as follows: a customer interacts with the store employee looking for a book. The employee asks what the title and genre of the book is. Using this information the employee can find the aisle based on the genre of the book. The customer is told the price of the book and asks whether or not there is a cafe available for refreshments. He/she/them is then informed of the availability of said cafe and we can get the information for how many consumers there are and how much money is made in the bookstore. The goal with the data collected using this database model would be too see which books are more popular and whether or not a cafe being present is a beneficial attribute. Also, we can figure out which genre of books is selling the most and the bookstore can make major decisions to become a successful business."
      ]
    },
    {
      "cell_type": "markdown",
      "metadata": {
        "id": "MAreLdZMSJwM",
        "colab_type": "text"
      },
      "source": [
        "##ER Diagram\n",
        "- An image of your final ER diagram. See your last group assignment for suggestions/corrections and the rubric below to make sure you include everything required.\n",
        "![alt text](https://raw.githubusercontent.com/jyoojin132/IST210-Spring2020/master/Group%20Assignment%202.png)\n",
        "- Discuss any specifics in regards to your ER Diagram (100 - 250 words) Our diagram is conveying the relationships between entities within a bookstore. <br>\n",
        "Our entities include a bookstore store business, aisles, books, cafe, genres, and store employees. To start from book store business, the PK was Store ID and under that, there were three FKs. The FKs are cafe number, employee number, and aisle and other entities there are address and hour. Looking into Store ID, it contains a cafe. The PK for the cafe is Cafe ID and the location and the employee ID are the FKs. Except for those entities, there are Hours Of Operation and the menu. From the FP Employee number works with store employees. So, the PK for store employees is Employee ID and the other entities are position, first name, last name, and phone number. Also, this Store Employee diagram contains the cafe’s employee ids. Going back to the book store business diagram, the FK aisles contain the store aisles and connected to the PK Aisles ID. Under that, there are two FKs and it is genre and ISBN and the other entity is the shelf. For the FK Genre, it is the Genre ID so, their connection it (1,1). For the ISBN, it is connected with books so, the PK is ISBN and the FK is a genre and also tow entities price and pages. The FK in Genre is connected to the genres ID as a PK. Overall, we wanted to plan out a smooth diagram that connects all the 6 digrams to each other. Also, we focused on making the diagram look clean and easy to read.\n",
        "\n",
        "- Discuss how you created your database, tables, and inserted data (100 - 250 words)<br>\n",
        "We wanted to make a program that will benefit our bookstore. Also we considered that our bookstore has an additional section specifically for a café. So in the biggest database and tables and data that we inserted was the bookstore business itself. It has the store ID, café ID, employee ID, aisles ID, address ID, and hours in text and we created a separate table for the café, employees, isles, books, and publishers. Also, underneath those tables, we added information that is essential to identify the table. After that, we created several SQLs that can input data for bookstore businesses, employees, café, and aisles. Also, we wanted to Add data that are specifically identified for each table so, for example for the employees’ table, we added the employee store code and position an additional two just basic information about the employee. Also, for the café, we wanted to add hours of when the café is open to bringing a more unique aspect and on essential information for that table.\n",
        "\n",
        "- Provide all code to create and populate your database.\n",
        "\n"
      ]
    },
    {
      "cell_type": "code",
      "metadata": {
        "id": "YtTaO-CKS3Os",
        "colab_type": "code",
        "colab": {
          "base_uri": "https://localhost:8080/",
          "height": 68
        },
        "outputId": "a5f75c78-3190-4ea6-d6d1-2bb76c22ec22"
      },
      "source": [
        "%load_ext sql\n",
        "%sql sqlite:///bookstore.db"
      ],
      "execution_count": 8,
      "outputs": [
        {
          "output_type": "stream",
          "text": [
            "The sql extension is already loaded. To reload it, use:\n",
            "  %reload_ext sql\n"
          ],
          "name": "stdout"
        },
        {
          "output_type": "execute_result",
          "data": {
            "text/plain": [
              "'Connected: @bookstore.db'"
            ]
          },
          "metadata": {
            "tags": []
          },
          "execution_count": 8
        }
      ]
    },
    {
      "cell_type": "code",
      "metadata": {
        "id": "KJJ78bRxWkKN",
        "colab_type": "code",
        "outputId": "d70bae68-52f4-475c-9f40-a68d2c45252c",
        "colab": {
          "base_uri": "https://localhost:8080/",
          "height": 85
        }
      },
      "source": [
        "%%sql\n",
        "DROP TABLE IF EXISTS BookStoreBusiness;\n",
        "CREATE TABLE BookStoreBusiness(StoreID text primary key, \n",
        "                               CafeID text, \n",
        "                               EmployeeID text, \n",
        "                               AislesID text, \n",
        "                               Address text, \n",
        "                               Hours text);"
      ],
      "execution_count": 9,
      "outputs": [
        {
          "output_type": "stream",
          "text": [
            " * sqlite:///bookstore.db\n",
            "Done.\n",
            "Done.\n"
          ],
          "name": "stdout"
        },
        {
          "output_type": "execute_result",
          "data": {
            "text/plain": [
              "[]"
            ]
          },
          "metadata": {
            "tags": []
          },
          "execution_count": 9
        }
      ]
    },
    {
      "cell_type": "code",
      "metadata": {
        "id": "G5tw895aQrbn",
        "colab_type": "code",
        "outputId": "c9c3b96b-c93b-4041-b05d-629fd36c6fb9",
        "colab": {
          "base_uri": "https://localhost:8080/",
          "height": 85
        }
      },
      "source": [
        "%%sql\n",
        "DROP TABLE IF EXISTS Cafe;\n",
        "CREATE TABLE Cafe(CafeID text primary key,\n",
        "                  EmployeeID text,\n",
        "                  Hours text);\n",
        "                  "
      ],
      "execution_count": 10,
      "outputs": [
        {
          "output_type": "stream",
          "text": [
            " * sqlite:///bookstore.db\n",
            "Done.\n",
            "Done.\n"
          ],
          "name": "stdout"
        },
        {
          "output_type": "execute_result",
          "data": {
            "text/plain": [
              "[]"
            ]
          },
          "metadata": {
            "tags": []
          },
          "execution_count": 10
        }
      ]
    },
    {
      "cell_type": "code",
      "metadata": {
        "id": "t9c0eADaRdE9",
        "colab_type": "code",
        "outputId": "2aa0c39c-e652-4cbf-a3ce-ab6684541e19",
        "colab": {
          "base_uri": "https://localhost:8080/",
          "height": 85
        }
      },
      "source": [
        "%%sql\n",
        "DROP TABLE IF EXISTS Employees;\n",
        "CREATE TABLE Employees(EmployeeID text primary key,\n",
        "                       EmployeeStoreCode text,\n",
        "                       Position text,\n",
        "                       FirstName text,\n",
        "                       LastName text,\n",
        "                       PhoneNumber text);"
      ],
      "execution_count": 11,
      "outputs": [
        {
          "output_type": "stream",
          "text": [
            " * sqlite:///bookstore.db\n",
            "Done.\n",
            "Done.\n"
          ],
          "name": "stdout"
        },
        {
          "output_type": "execute_result",
          "data": {
            "text/plain": [
              "[]"
            ]
          },
          "metadata": {
            "tags": []
          },
          "execution_count": 11
        }
      ]
    },
    {
      "cell_type": "code",
      "metadata": {
        "id": "_v5I28dUR3Js",
        "colab_type": "code",
        "outputId": "1a7f43af-7c64-498a-c799-3849c701ffef",
        "colab": {
          "base_uri": "https://localhost:8080/",
          "height": 85
        }
      },
      "source": [
        "%%sql\n",
        "DROP TABLE IF EXISTS Aisles;\n",
        "CREATE TABLE Aisles(AislesID text primary key,\n",
        "                    AislesStoreCode text,\n",
        "                    Genres text);"
      ],
      "execution_count": 12,
      "outputs": [
        {
          "output_type": "stream",
          "text": [
            " * sqlite:///bookstore.db\n",
            "Done.\n",
            "Done.\n"
          ],
          "name": "stdout"
        },
        {
          "output_type": "execute_result",
          "data": {
            "text/plain": [
              "[]"
            ]
          },
          "metadata": {
            "tags": []
          },
          "execution_count": 12
        }
      ]
    },
    {
      "cell_type": "code",
      "metadata": {
        "id": "XkW0ObixT5BY",
        "colab_type": "code",
        "outputId": "504852bb-905e-4e48-f8df-0b26eecc2c4b",
        "colab": {
          "base_uri": "https://localhost:8080/",
          "height": 85
        }
      },
      "source": [
        "%%sql \n",
        "DROP TABLE IF EXISTS Books;\n",
        "CREATE TABLE Books(ISBN text primary key,\n",
        "                   AislesId text,\n",
        "                   PublisherID text,\n",
        "                   Genres text,\n",
        "                   Title text,\n",
        "                   Price real);"
      ],
      "execution_count": 13,
      "outputs": [
        {
          "output_type": "stream",
          "text": [
            " * sqlite:///bookstore.db\n",
            "Done.\n",
            "Done.\n"
          ],
          "name": "stdout"
        },
        {
          "output_type": "execute_result",
          "data": {
            "text/plain": [
              "[]"
            ]
          },
          "metadata": {
            "tags": []
          },
          "execution_count": 13
        }
      ]
    },
    {
      "cell_type": "code",
      "metadata": {
        "id": "5cHbpJhIUB8h",
        "colab_type": "code",
        "outputId": "c265c8c3-e069-409c-83fb-3701ad2d4a6f",
        "colab": {
          "base_uri": "https://localhost:8080/",
          "height": 85
        }
      },
      "source": [
        "%%sql\n",
        "DROP TABLE IF EXISTS Publishers;\n",
        "CREATE TABLE Publishers(PublisherID text primary key,\n",
        "                        Address text,\n",
        "                        PhoneNumber text);"
      ],
      "execution_count": 14,
      "outputs": [
        {
          "output_type": "stream",
          "text": [
            " * sqlite:///bookstore.db\n",
            "Done.\n",
            "Done.\n"
          ],
          "name": "stdout"
        },
        {
          "output_type": "execute_result",
          "data": {
            "text/plain": [
              "[]"
            ]
          },
          "metadata": {
            "tags": []
          },
          "execution_count": 14
        }
      ]
    },
    {
      "cell_type": "code",
      "metadata": {
        "id": "Gpp3kV8TGcjf",
        "colab_type": "code",
        "outputId": "c0dfce9a-c1ff-43fe-fb60-6bffb372898d",
        "colab": {
          "base_uri": "https://localhost:8080/",
          "height": 136
        }
      },
      "source": [
        "%%sql\n",
        "insert into BookStoreBusiness values('State College Bookstore','State College Cafe','SC_Employee','SC_Aisles','State College, PA','9:00am - 9:00pm');\n",
        "insert into BookStoreBusiness values('Philadelphia Bookstore','Philadelphia Cafe','Phi_Employee','Phi_Aisles','Philadelphia, PA','8:00am - 10:00pm');\n",
        "insert into BookStoreBusiness values('New York City Bookstore','New York City Cafe','NYC_Employee','NYC_Aisles','New York City, NY','8:00am - 10:00pm');\n",
        "insert into BookStoreBusiness values('West Chester Bookstore','West Chester Cafe','WC_Employee','WC_Aisles','West Chester, PA','9:00am - 9:00pm');\n",
        "insert into BookStoreBusiness values('Long Beach Bookstore','Long Beach Cafe','LB_Employee','LB_Aisles','Long Beach, CA','9:00am - 9:00pm');\n"
      ],
      "execution_count": 15,
      "outputs": [
        {
          "output_type": "stream",
          "text": [
            " * sqlite:///bookstore.db\n",
            "1 rows affected.\n",
            "1 rows affected.\n",
            "1 rows affected.\n",
            "1 rows affected.\n",
            "1 rows affected.\n"
          ],
          "name": "stdout"
        },
        {
          "output_type": "execute_result",
          "data": {
            "text/plain": [
              "[]"
            ]
          },
          "metadata": {
            "tags": []
          },
          "execution_count": 15
        }
      ]
    },
    {
      "cell_type": "code",
      "metadata": {
        "id": "5wP-oNcfWDco",
        "colab_type": "code",
        "outputId": "4b1f0868-5c29-4efb-d3a2-17583329cbb2",
        "colab": {
          "base_uri": "https://localhost:8080/",
          "height": 391
        }
      },
      "source": [
        "%%sql \n",
        "insert into Employees values('SC01', 'SC_Employee', 'Manger', 'John', 'Smith','(484) 294-5902');\n",
        "insert into Employees values('SC02','SC_Employee','Cashier','Allison','Johnson','(610) 348-4982');\n",
        "insert into Employees values('SC03','SC_Employee','Book Stocker','David','Brown','(324) 303-3042');\n",
        "insert into Employees values('SC04','SC_Cafe_Employee','Barista','Jennifer','Jones','(422) 349-1230');\n",
        "insert into Employees values('Phi01','Phi_Employee','Manger','Richard','Wilson','(234) 432-9912');\n",
        "insert into Employees values('Phi02','Phi_Employee','Cashier','Thomas','Miller','(345) 456-0989');\n",
        "insert into Employees values('Phi03','Phi_Employee','Book Stocker','Susan','Davis','(983) 234-5423');\n",
        "insert into Employees values('Phi04','Phi_Cafe_Employee','Barista','Christopher','Anderson','(203) 834-2139');\n",
        "insert into Employees values('NYC01','NYC_Employee','Manger','Nancy','Jones','(239) 439-2039');\n",
        "insert into Employees values('NYC02','NYC_Employee','Cashier','Anthony','McMorris','(134) 430-1238');\n",
        "insert into Employees values('NYC03','NYC_Employee','Book Stocker','Melissa','Roberts','(245) 239-4589');\n",
        "insert into Employees values('NYC04','NYC_Cafe_Employee','Barista','Rebecca','Knight','(902) 238-2093');\n",
        "insert into Employees values('WC01','WC_Employee','Manger','Mark','Homes','(123) 459-2390');\n",
        "insert into Employees values('WC02','WC_Employee','Cashier','Tony','Smith','(733) 323-9432');\n",
        "insert into Employees values('WC03','WC_Employee','Book Stocker','Abigail','Johnson','(399) 934-4238');\n",
        "insert into Employees values('WC04','WC_Cafe_Employee','Barista','Kevin','Tatu','(984) 238-0934');\n",
        "insert into Employees values('LB01','LB_Employee','Manger','John','Edwards','(610) 392-3942');\n",
        "insert into Employees values('LB02','LB_Employee','Cashier','Laura','Da Silva','(484) 120-3290');\n",
        "insert into Employees values('LB03','LB_Employee','Book Stocker','Ryan','Lin','(679) 237-6742');\n",
        "insert into Employees values('LB04','LB_Cafe_Employee','Barista','Jacob','Joseph','(765) 239-9034');\n"
      ],
      "execution_count": 16,
      "outputs": [
        {
          "output_type": "stream",
          "text": [
            " * sqlite:///bookstore.db\n",
            "1 rows affected.\n",
            "1 rows affected.\n",
            "1 rows affected.\n",
            "1 rows affected.\n",
            "1 rows affected.\n",
            "1 rows affected.\n",
            "1 rows affected.\n",
            "1 rows affected.\n",
            "1 rows affected.\n",
            "1 rows affected.\n",
            "1 rows affected.\n",
            "1 rows affected.\n",
            "1 rows affected.\n",
            "1 rows affected.\n",
            "1 rows affected.\n",
            "1 rows affected.\n",
            "1 rows affected.\n",
            "1 rows affected.\n",
            "1 rows affected.\n",
            "1 rows affected.\n"
          ],
          "name": "stdout"
        },
        {
          "output_type": "execute_result",
          "data": {
            "text/plain": [
              "[]"
            ]
          },
          "metadata": {
            "tags": []
          },
          "execution_count": 16
        }
      ]
    },
    {
      "cell_type": "code",
      "metadata": {
        "id": "-vOr9DrOeasg",
        "colab_type": "code",
        "outputId": "4485efcc-8327-485d-9edc-c4edd6a760bc",
        "colab": {
          "base_uri": "https://localhost:8080/",
          "height": 136
        }
      },
      "source": [
        "%%sql\n",
        "insert into Cafe values('State College Cafe','SC_Cafe_Employee','10:00am - 5:00pm');\n",
        "insert into Cafe values('Philadelphia Cafe','Phi_Cafe_Employee','9:00am - 6:30pm');\n",
        "insert into Cafe values('New York City Cafe','NYC_Cafe_Employee','9:00am - 6:30pm');\n",
        "insert into Cafe values('West Chester Cafe','WC_Cafe_Employee','10:00am - 5:00pm');\n",
        "insert into Cafe values('Long Beach Cafe','LB_Cafe_Employee','9:30am - 5:30pm');"
      ],
      "execution_count": 17,
      "outputs": [
        {
          "output_type": "stream",
          "text": [
            " * sqlite:///bookstore.db\n",
            "1 rows affected.\n",
            "1 rows affected.\n",
            "1 rows affected.\n",
            "1 rows affected.\n",
            "1 rows affected.\n"
          ],
          "name": "stdout"
        },
        {
          "output_type": "execute_result",
          "data": {
            "text/plain": [
              "[]"
            ]
          },
          "metadata": {
            "tags": []
          },
          "execution_count": 17
        }
      ]
    },
    {
      "cell_type": "code",
      "metadata": {
        "id": "D2HsLxpHPIf9",
        "colab_type": "code",
        "outputId": "d14a6fa4-a240-4a18-9459-29ea0f3ceeb0",
        "colab": {
          "base_uri": "https://localhost:8080/",
          "height": 221
        }
      },
      "source": [
        "%%sql\n",
        "insert into Aisles values('SC_Aisle01','SC_Aisles','Textbook');\n",
        "insert into Aisles values('SC_Aisle02','SC_Aisles','Biography');\n",
        "insert into Aisles values('Phi_Aisle01','Phi_Aisles','Biography');\n",
        "insert into Aisles values('Phi_Aisle02','Phi_Aisles','Science Fiction');\n",
        "insert into Aisles values('NYC_Aisle01','NYC_Aisles','History');\n",
        "insert into Aisles values('NYC_Aisle02','NYC_Aisles','Action');\n",
        "insert into Aisles values('WC_Aisle01','WC_Aisles','Action');\n",
        "insert into Aisles values('WC_Aisle02','WC_Aisles','Science Fiction');\n",
        "insert into Aisles values('LB_Aisle01','LB_Aisles','History');\n",
        "insert into Aisles values('LB_Aisle02','LB_Aisles','Textbook');\n"
      ],
      "execution_count": 18,
      "outputs": [
        {
          "output_type": "stream",
          "text": [
            " * sqlite:///bookstore.db\n",
            "1 rows affected.\n",
            "1 rows affected.\n",
            "1 rows affected.\n",
            "1 rows affected.\n",
            "1 rows affected.\n",
            "1 rows affected.\n",
            "1 rows affected.\n",
            "1 rows affected.\n",
            "1 rows affected.\n",
            "1 rows affected.\n"
          ],
          "name": "stdout"
        },
        {
          "output_type": "execute_result",
          "data": {
            "text/plain": [
              "[]"
            ]
          },
          "metadata": {
            "tags": []
          },
          "execution_count": 18
        }
      ]
    },
    {
      "cell_type": "code",
      "metadata": {
        "id": "MQYQJuCOY90a",
        "colab_type": "code",
        "outputId": "60491379-e5b6-4e7d-ec13-1b38cebd5c0a",
        "colab": {
          "base_uri": "https://localhost:8080/",
          "height": 391
        }
      },
      "source": [
        "%%sql\n",
        "insert into Books values('1471672122','SC_Aisle01','Gulf Coast Books', 'Textbook', 'Stock Image Calculus, Student Solutions Manual: MV: Multivariable','13.60');\n",
        "insert into Books values('1077076627','SC_Aisle01','Discover Books','Textbook','Objective-C (Spanish Edition)','25.80');\n",
        "insert into Books values('2501135929','SC_Aisle02','Hippo Books','Biography','Shoe Dog: A Memoir by the Creator of Nike','11.38');\n",
        "insert into Books values('3451648537','SC_Aisle02',' Ginny6Books','Biography','Steve Jobs','11.24');\n",
        "insert into Books values('1501135929','Phi_Aisle01','Hippo Books','Biography','Shoe Dog: A Memoir by the Creator of Nike','11.38');\n",
        "insert into Books values('1451648537','Phi_Aisle01',' Ginny6Books','Biography','Steve Jobs','11.24');\n",
        "insert into Books values('3785031139','Phi_Aisle02','Ebury Press','Science Fiction','The Martian','5.90');\n",
        "insert into Books values('4783293691','Phi_Aisle02','Titan Books','Science Fiction','Interstellar: The Official Movie Novelization','6.79');\n",
        "insert into Books values('5393317552','NYC_Aisle01','W. W. Norton & Company','History','Guns, Germs, and Steel: The Fates of Human Societies','5.75');\n",
        "insert into Books values('5143118188','NYC_Aisle01','Penguin Publishing Group','History','D-Day : The Battle for Normandy','5.59');\n",
        "insert into Books values('6590353403','NYC_Aisle02','Scholastic Press','Action','Harry Potter And The Sorcerers Stone','11.99');\n",
        "insert into Books values('6307887448','NYC_Aisle02','Ballantine Books','Action','Ready Player One: A Novel','12.82');\n",
        "insert into Books values('0590353403','WC_Aisle01','Scholastic Press','Action','Harry Potter And The Sorcerers Stone','11.99');\n",
        "insert into Books values('0307887448','WC_Aisle01','Ballantine Books','Action','Ready Player One: A Novel','12.82');\n",
        "insert into Books values('1785031139','WC_Aisle02','Ebury Press','Science Fiction','The Martian','5.90');\n",
        "insert into Books values('1783293691','WC_Aisle02','Titan Books','Science Fiction','Interstellar: The Official Movie Novelization','6.79');\n",
        "insert into Books values('0393317552','LB_Aisle01','W. W. Norton & Company','History','Guns, Germs, and Steel: The Fates of Human Societies','5.75');\n",
        "insert into Books values('0143118188','LB_Aisle01','Penguin Publishing Group','History','D-Day : The Battle for Normandy','5.59');\n",
        "insert into Books values('0471672122','LB_Aisle02','Gulf Coast Books', 'Textbook', 'Stock Image Calculus, Student Solutions Manual: MV: Multivariable','13.60');\n",
        "insert into Books values('6077076627','LB_Aisle02','Discover Books','Textbook','Objective-C (Spanish Edition)','25.80');\n"
      ],
      "execution_count": 19,
      "outputs": [
        {
          "output_type": "stream",
          "text": [
            " * sqlite:///bookstore.db\n",
            "1 rows affected.\n",
            "1 rows affected.\n",
            "1 rows affected.\n",
            "1 rows affected.\n",
            "1 rows affected.\n",
            "1 rows affected.\n",
            "1 rows affected.\n",
            "1 rows affected.\n",
            "1 rows affected.\n",
            "1 rows affected.\n",
            "1 rows affected.\n",
            "1 rows affected.\n",
            "1 rows affected.\n",
            "1 rows affected.\n",
            "1 rows affected.\n",
            "1 rows affected.\n",
            "1 rows affected.\n",
            "1 rows affected.\n",
            "1 rows affected.\n",
            "1 rows affected.\n"
          ],
          "name": "stdout"
        },
        {
          "output_type": "execute_result",
          "data": {
            "text/plain": [
              "[]"
            ]
          },
          "metadata": {
            "tags": []
          },
          "execution_count": 19
        }
      ]
    },
    {
      "cell_type": "code",
      "metadata": {
        "id": "XEs_kr5T7FQs",
        "colab_type": "code",
        "outputId": "a3ec511a-544c-4ec5-987b-1e27841c2664",
        "colab": {
          "base_uri": "https://localhost:8080/",
          "height": 221
        }
      },
      "source": [
        "%%sql\n",
        "insert into Publishers values('Gulf Coast Books','3092 LAKEVIEW RD Memphis, TN 38116 USA','(832) 430-0788');\n",
        "insert into Publishers values('Discover Books','830 N Westwood Ave, Toledo, OH 43607','(855) 702-6657');\n",
        "insert into Publishers values('Hippo Books','Hippo Books. Toledo, OH, U.S.A.','(419) 241-3700');\n",
        "insert into Publishers values('Ginny6Books','Manchester, IL, U.S.A.','(493) 750-9022');\n",
        "insert into Publishers values('Ebury Press','20 Vauxhall Bridge Road London, SW1V 2SA','44 (0)20 7840 8400');\n",
        "insert into Publishers values('Titan Books','1745 Broadway NY, NY 10019 USA','(800) 729-2960');\n",
        "insert into Publishers values('W. W. Norton & Company','500 Fifth Avenue, New York City, New York USA','(212) 354-5500');\n",
        "insert into Publishers values('Penguin Publishing Group','405 Murray Hill Pkwy, East Rutherford, NJ 07073','(201) 933-9292');\n",
        "insert into Publishers values('Scholastic Press','00 Plaza Dr #4, Secaucus, NJ 07094 USA','(201) 633-2400');\n",
        "insert into Publishers values('Ballantine Books','1745 Broadway, New York, NY 10019 USA','(212) 782-9000');"
      ],
      "execution_count": 20,
      "outputs": [
        {
          "output_type": "stream",
          "text": [
            " * sqlite:///bookstore.db\n",
            "1 rows affected.\n",
            "1 rows affected.\n",
            "1 rows affected.\n",
            "1 rows affected.\n",
            "1 rows affected.\n",
            "1 rows affected.\n",
            "1 rows affected.\n",
            "1 rows affected.\n",
            "1 rows affected.\n",
            "1 rows affected.\n"
          ],
          "name": "stdout"
        },
        {
          "output_type": "execute_result",
          "data": {
            "text/plain": [
              "[]"
            ]
          },
          "metadata": {
            "tags": []
          },
          "execution_count": 20
        }
      ]
    },
    {
      "cell_type": "markdown",
      "metadata": {
        "id": "noCqDO9F6JZ0",
        "colab_type": "text"
      },
      "source": [
        "#Sceanrio\n",
        "For the bookstore business we could log in to the store ID. Under the business, we could get an ID for the store itself and information for employees, isles, address, and the hours for the bookstore. Also, because the bookstore has a café you can get an ID with the cafe section That has information about the employee who works at the Café and the hours that is open. First of all, for the Isles, there is an aisle’s ID and we can get more information that is sectioned off with genre ISBN and shelf name. Also underneath that connected with the ISBN, we can get information about the box and that includes the genre, publisher ID, title, and price. Under that, we could get more information about publishers where take collects information about an address, phone number, and shelf information. Also, there is a separate section for store employees and it has their basic information like their first and last name, phone number, position, and code for the employee."
      ]
    },
    {
      "cell_type": "markdown",
      "metadata": {
        "id": "wNu6H4FenDTm",
        "colab_type": "text"
      },
      "source": [
        "\n",
        "##3 Queries \n",
        "that would be helpful for either you or the user from this scenario and explain why this would be helpful (50 words per query). Queries should be unique from one another and utilize multiple types of SQL commands.\n"
      ]
    },
    {
      "cell_type": "code",
      "metadata": {
        "id": "CR-i1ZBtp6HM",
        "colab_type": "code",
        "colab": {
          "base_uri": "https://localhost:8080/",
          "height": 1000
        },
        "outputId": "10c9ec17-0681-4c0b-fb95-b12989adfd4f"
      },
      "source": [
        "%%sql \n",
        "select s.CafeID, s.Address, s.Hours, g.Title, g.Price from BookStoreBusiness s, Books g"
      ],
      "execution_count": 70,
      "outputs": [
        {
          "output_type": "stream",
          "text": [
            " * sqlite:///bookstore.db\n",
            "Done.\n"
          ],
          "name": "stdout"
        },
        {
          "output_type": "execute_result",
          "data": {
            "text/html": [
              "<table>\n",
              "    <tr>\n",
              "        <th>CafeID</th>\n",
              "        <th>Address</th>\n",
              "        <th>Hours</th>\n",
              "        <th>Title</th>\n",
              "        <th>Price</th>\n",
              "    </tr>\n",
              "    <tr>\n",
              "        <td>State College Cafe</td>\n",
              "        <td>State College, PA</td>\n",
              "        <td>9:00am - 9:00pm</td>\n",
              "        <td>Stock Image Calculus, Student Solutions Manual: MV: Multivariable</td>\n",
              "        <td>13.6</td>\n",
              "    </tr>\n",
              "    <tr>\n",
              "        <td>State College Cafe</td>\n",
              "        <td>State College, PA</td>\n",
              "        <td>9:00am - 9:00pm</td>\n",
              "        <td>Objective-C (Spanish Edition)</td>\n",
              "        <td>25.8</td>\n",
              "    </tr>\n",
              "    <tr>\n",
              "        <td>State College Cafe</td>\n",
              "        <td>State College, PA</td>\n",
              "        <td>9:00am - 9:00pm</td>\n",
              "        <td>Shoe Dog: A Memoir by the Creator of Nike</td>\n",
              "        <td>11.38</td>\n",
              "    </tr>\n",
              "    <tr>\n",
              "        <td>State College Cafe</td>\n",
              "        <td>State College, PA</td>\n",
              "        <td>9:00am - 9:00pm</td>\n",
              "        <td>Steve Jobs</td>\n",
              "        <td>11.24</td>\n",
              "    </tr>\n",
              "    <tr>\n",
              "        <td>State College Cafe</td>\n",
              "        <td>State College, PA</td>\n",
              "        <td>9:00am - 9:00pm</td>\n",
              "        <td>Shoe Dog: A Memoir by the Creator of Nike</td>\n",
              "        <td>11.38</td>\n",
              "    </tr>\n",
              "    <tr>\n",
              "        <td>State College Cafe</td>\n",
              "        <td>State College, PA</td>\n",
              "        <td>9:00am - 9:00pm</td>\n",
              "        <td>Steve Jobs</td>\n",
              "        <td>11.24</td>\n",
              "    </tr>\n",
              "    <tr>\n",
              "        <td>State College Cafe</td>\n",
              "        <td>State College, PA</td>\n",
              "        <td>9:00am - 9:00pm</td>\n",
              "        <td>The Martian</td>\n",
              "        <td>5.9</td>\n",
              "    </tr>\n",
              "    <tr>\n",
              "        <td>State College Cafe</td>\n",
              "        <td>State College, PA</td>\n",
              "        <td>9:00am - 9:00pm</td>\n",
              "        <td>Interstellar: The Official Movie Novelization</td>\n",
              "        <td>6.79</td>\n",
              "    </tr>\n",
              "    <tr>\n",
              "        <td>State College Cafe</td>\n",
              "        <td>State College, PA</td>\n",
              "        <td>9:00am - 9:00pm</td>\n",
              "        <td>Guns, Germs, and Steel: The Fates of Human Societies</td>\n",
              "        <td>5.75</td>\n",
              "    </tr>\n",
              "    <tr>\n",
              "        <td>State College Cafe</td>\n",
              "        <td>State College, PA</td>\n",
              "        <td>9:00am - 9:00pm</td>\n",
              "        <td>D-Day : The Battle for Normandy</td>\n",
              "        <td>5.59</td>\n",
              "    </tr>\n",
              "    <tr>\n",
              "        <td>State College Cafe</td>\n",
              "        <td>State College, PA</td>\n",
              "        <td>9:00am - 9:00pm</td>\n",
              "        <td>Harry Potter And The Sorcerers Stone</td>\n",
              "        <td>11.99</td>\n",
              "    </tr>\n",
              "    <tr>\n",
              "        <td>State College Cafe</td>\n",
              "        <td>State College, PA</td>\n",
              "        <td>9:00am - 9:00pm</td>\n",
              "        <td>Ready Player One: A Novel</td>\n",
              "        <td>12.82</td>\n",
              "    </tr>\n",
              "    <tr>\n",
              "        <td>State College Cafe</td>\n",
              "        <td>State College, PA</td>\n",
              "        <td>9:00am - 9:00pm</td>\n",
              "        <td>Harry Potter And The Sorcerers Stone</td>\n",
              "        <td>11.99</td>\n",
              "    </tr>\n",
              "    <tr>\n",
              "        <td>State College Cafe</td>\n",
              "        <td>State College, PA</td>\n",
              "        <td>9:00am - 9:00pm</td>\n",
              "        <td>Ready Player One: A Novel</td>\n",
              "        <td>12.82</td>\n",
              "    </tr>\n",
              "    <tr>\n",
              "        <td>State College Cafe</td>\n",
              "        <td>State College, PA</td>\n",
              "        <td>9:00am - 9:00pm</td>\n",
              "        <td>The Martian</td>\n",
              "        <td>5.9</td>\n",
              "    </tr>\n",
              "    <tr>\n",
              "        <td>State College Cafe</td>\n",
              "        <td>State College, PA</td>\n",
              "        <td>9:00am - 9:00pm</td>\n",
              "        <td>Interstellar: The Official Movie Novelization</td>\n",
              "        <td>6.79</td>\n",
              "    </tr>\n",
              "    <tr>\n",
              "        <td>State College Cafe</td>\n",
              "        <td>State College, PA</td>\n",
              "        <td>9:00am - 9:00pm</td>\n",
              "        <td>Guns, Germs, and Steel: The Fates of Human Societies</td>\n",
              "        <td>5.75</td>\n",
              "    </tr>\n",
              "    <tr>\n",
              "        <td>State College Cafe</td>\n",
              "        <td>State College, PA</td>\n",
              "        <td>9:00am - 9:00pm</td>\n",
              "        <td>D-Day : The Battle for Normandy</td>\n",
              "        <td>5.59</td>\n",
              "    </tr>\n",
              "    <tr>\n",
              "        <td>State College Cafe</td>\n",
              "        <td>State College, PA</td>\n",
              "        <td>9:00am - 9:00pm</td>\n",
              "        <td>Stock Image Calculus, Student Solutions Manual: MV: Multivariable</td>\n",
              "        <td>13.6</td>\n",
              "    </tr>\n",
              "    <tr>\n",
              "        <td>State College Cafe</td>\n",
              "        <td>State College, PA</td>\n",
              "        <td>9:00am - 9:00pm</td>\n",
              "        <td>Objective-C (Spanish Edition)</td>\n",
              "        <td>25.8</td>\n",
              "    </tr>\n",
              "    <tr>\n",
              "        <td>Philadelphia Cafe</td>\n",
              "        <td>Philadelphia, PA</td>\n",
              "        <td>8:00am - 10:00pm</td>\n",
              "        <td>Stock Image Calculus, Student Solutions Manual: MV: Multivariable</td>\n",
              "        <td>13.6</td>\n",
              "    </tr>\n",
              "    <tr>\n",
              "        <td>Philadelphia Cafe</td>\n",
              "        <td>Philadelphia, PA</td>\n",
              "        <td>8:00am - 10:00pm</td>\n",
              "        <td>Objective-C (Spanish Edition)</td>\n",
              "        <td>25.8</td>\n",
              "    </tr>\n",
              "    <tr>\n",
              "        <td>Philadelphia Cafe</td>\n",
              "        <td>Philadelphia, PA</td>\n",
              "        <td>8:00am - 10:00pm</td>\n",
              "        <td>Shoe Dog: A Memoir by the Creator of Nike</td>\n",
              "        <td>11.38</td>\n",
              "    </tr>\n",
              "    <tr>\n",
              "        <td>Philadelphia Cafe</td>\n",
              "        <td>Philadelphia, PA</td>\n",
              "        <td>8:00am - 10:00pm</td>\n",
              "        <td>Steve Jobs</td>\n",
              "        <td>11.24</td>\n",
              "    </tr>\n",
              "    <tr>\n",
              "        <td>Philadelphia Cafe</td>\n",
              "        <td>Philadelphia, PA</td>\n",
              "        <td>8:00am - 10:00pm</td>\n",
              "        <td>Shoe Dog: A Memoir by the Creator of Nike</td>\n",
              "        <td>11.38</td>\n",
              "    </tr>\n",
              "    <tr>\n",
              "        <td>Philadelphia Cafe</td>\n",
              "        <td>Philadelphia, PA</td>\n",
              "        <td>8:00am - 10:00pm</td>\n",
              "        <td>Steve Jobs</td>\n",
              "        <td>11.24</td>\n",
              "    </tr>\n",
              "    <tr>\n",
              "        <td>Philadelphia Cafe</td>\n",
              "        <td>Philadelphia, PA</td>\n",
              "        <td>8:00am - 10:00pm</td>\n",
              "        <td>The Martian</td>\n",
              "        <td>5.9</td>\n",
              "    </tr>\n",
              "    <tr>\n",
              "        <td>Philadelphia Cafe</td>\n",
              "        <td>Philadelphia, PA</td>\n",
              "        <td>8:00am - 10:00pm</td>\n",
              "        <td>Interstellar: The Official Movie Novelization</td>\n",
              "        <td>6.79</td>\n",
              "    </tr>\n",
              "    <tr>\n",
              "        <td>Philadelphia Cafe</td>\n",
              "        <td>Philadelphia, PA</td>\n",
              "        <td>8:00am - 10:00pm</td>\n",
              "        <td>Guns, Germs, and Steel: The Fates of Human Societies</td>\n",
              "        <td>5.75</td>\n",
              "    </tr>\n",
              "    <tr>\n",
              "        <td>Philadelphia Cafe</td>\n",
              "        <td>Philadelphia, PA</td>\n",
              "        <td>8:00am - 10:00pm</td>\n",
              "        <td>D-Day : The Battle for Normandy</td>\n",
              "        <td>5.59</td>\n",
              "    </tr>\n",
              "    <tr>\n",
              "        <td>Philadelphia Cafe</td>\n",
              "        <td>Philadelphia, PA</td>\n",
              "        <td>8:00am - 10:00pm</td>\n",
              "        <td>Harry Potter And The Sorcerers Stone</td>\n",
              "        <td>11.99</td>\n",
              "    </tr>\n",
              "    <tr>\n",
              "        <td>Philadelphia Cafe</td>\n",
              "        <td>Philadelphia, PA</td>\n",
              "        <td>8:00am - 10:00pm</td>\n",
              "        <td>Ready Player One: A Novel</td>\n",
              "        <td>12.82</td>\n",
              "    </tr>\n",
              "    <tr>\n",
              "        <td>Philadelphia Cafe</td>\n",
              "        <td>Philadelphia, PA</td>\n",
              "        <td>8:00am - 10:00pm</td>\n",
              "        <td>Harry Potter And The Sorcerers Stone</td>\n",
              "        <td>11.99</td>\n",
              "    </tr>\n",
              "    <tr>\n",
              "        <td>Philadelphia Cafe</td>\n",
              "        <td>Philadelphia, PA</td>\n",
              "        <td>8:00am - 10:00pm</td>\n",
              "        <td>Ready Player One: A Novel</td>\n",
              "        <td>12.82</td>\n",
              "    </tr>\n",
              "    <tr>\n",
              "        <td>Philadelphia Cafe</td>\n",
              "        <td>Philadelphia, PA</td>\n",
              "        <td>8:00am - 10:00pm</td>\n",
              "        <td>The Martian</td>\n",
              "        <td>5.9</td>\n",
              "    </tr>\n",
              "    <tr>\n",
              "        <td>Philadelphia Cafe</td>\n",
              "        <td>Philadelphia, PA</td>\n",
              "        <td>8:00am - 10:00pm</td>\n",
              "        <td>Interstellar: The Official Movie Novelization</td>\n",
              "        <td>6.79</td>\n",
              "    </tr>\n",
              "    <tr>\n",
              "        <td>Philadelphia Cafe</td>\n",
              "        <td>Philadelphia, PA</td>\n",
              "        <td>8:00am - 10:00pm</td>\n",
              "        <td>Guns, Germs, and Steel: The Fates of Human Societies</td>\n",
              "        <td>5.75</td>\n",
              "    </tr>\n",
              "    <tr>\n",
              "        <td>Philadelphia Cafe</td>\n",
              "        <td>Philadelphia, PA</td>\n",
              "        <td>8:00am - 10:00pm</td>\n",
              "        <td>D-Day : The Battle for Normandy</td>\n",
              "        <td>5.59</td>\n",
              "    </tr>\n",
              "    <tr>\n",
              "        <td>Philadelphia Cafe</td>\n",
              "        <td>Philadelphia, PA</td>\n",
              "        <td>8:00am - 10:00pm</td>\n",
              "        <td>Stock Image Calculus, Student Solutions Manual: MV: Multivariable</td>\n",
              "        <td>13.6</td>\n",
              "    </tr>\n",
              "    <tr>\n",
              "        <td>Philadelphia Cafe</td>\n",
              "        <td>Philadelphia, PA</td>\n",
              "        <td>8:00am - 10:00pm</td>\n",
              "        <td>Objective-C (Spanish Edition)</td>\n",
              "        <td>25.8</td>\n",
              "    </tr>\n",
              "    <tr>\n",
              "        <td>New York City Cafe</td>\n",
              "        <td>New York City, NY</td>\n",
              "        <td>8:00am - 10:00pm</td>\n",
              "        <td>Stock Image Calculus, Student Solutions Manual: MV: Multivariable</td>\n",
              "        <td>13.6</td>\n",
              "    </tr>\n",
              "    <tr>\n",
              "        <td>New York City Cafe</td>\n",
              "        <td>New York City, NY</td>\n",
              "        <td>8:00am - 10:00pm</td>\n",
              "        <td>Objective-C (Spanish Edition)</td>\n",
              "        <td>25.8</td>\n",
              "    </tr>\n",
              "    <tr>\n",
              "        <td>New York City Cafe</td>\n",
              "        <td>New York City, NY</td>\n",
              "        <td>8:00am - 10:00pm</td>\n",
              "        <td>Shoe Dog: A Memoir by the Creator of Nike</td>\n",
              "        <td>11.38</td>\n",
              "    </tr>\n",
              "    <tr>\n",
              "        <td>New York City Cafe</td>\n",
              "        <td>New York City, NY</td>\n",
              "        <td>8:00am - 10:00pm</td>\n",
              "        <td>Steve Jobs</td>\n",
              "        <td>11.24</td>\n",
              "    </tr>\n",
              "    <tr>\n",
              "        <td>New York City Cafe</td>\n",
              "        <td>New York City, NY</td>\n",
              "        <td>8:00am - 10:00pm</td>\n",
              "        <td>Shoe Dog: A Memoir by the Creator of Nike</td>\n",
              "        <td>11.38</td>\n",
              "    </tr>\n",
              "    <tr>\n",
              "        <td>New York City Cafe</td>\n",
              "        <td>New York City, NY</td>\n",
              "        <td>8:00am - 10:00pm</td>\n",
              "        <td>Steve Jobs</td>\n",
              "        <td>11.24</td>\n",
              "    </tr>\n",
              "    <tr>\n",
              "        <td>New York City Cafe</td>\n",
              "        <td>New York City, NY</td>\n",
              "        <td>8:00am - 10:00pm</td>\n",
              "        <td>The Martian</td>\n",
              "        <td>5.9</td>\n",
              "    </tr>\n",
              "    <tr>\n",
              "        <td>New York City Cafe</td>\n",
              "        <td>New York City, NY</td>\n",
              "        <td>8:00am - 10:00pm</td>\n",
              "        <td>Interstellar: The Official Movie Novelization</td>\n",
              "        <td>6.79</td>\n",
              "    </tr>\n",
              "    <tr>\n",
              "        <td>New York City Cafe</td>\n",
              "        <td>New York City, NY</td>\n",
              "        <td>8:00am - 10:00pm</td>\n",
              "        <td>Guns, Germs, and Steel: The Fates of Human Societies</td>\n",
              "        <td>5.75</td>\n",
              "    </tr>\n",
              "    <tr>\n",
              "        <td>New York City Cafe</td>\n",
              "        <td>New York City, NY</td>\n",
              "        <td>8:00am - 10:00pm</td>\n",
              "        <td>D-Day : The Battle for Normandy</td>\n",
              "        <td>5.59</td>\n",
              "    </tr>\n",
              "    <tr>\n",
              "        <td>New York City Cafe</td>\n",
              "        <td>New York City, NY</td>\n",
              "        <td>8:00am - 10:00pm</td>\n",
              "        <td>Harry Potter And The Sorcerers Stone</td>\n",
              "        <td>11.99</td>\n",
              "    </tr>\n",
              "    <tr>\n",
              "        <td>New York City Cafe</td>\n",
              "        <td>New York City, NY</td>\n",
              "        <td>8:00am - 10:00pm</td>\n",
              "        <td>Ready Player One: A Novel</td>\n",
              "        <td>12.82</td>\n",
              "    </tr>\n",
              "    <tr>\n",
              "        <td>New York City Cafe</td>\n",
              "        <td>New York City, NY</td>\n",
              "        <td>8:00am - 10:00pm</td>\n",
              "        <td>Harry Potter And The Sorcerers Stone</td>\n",
              "        <td>11.99</td>\n",
              "    </tr>\n",
              "    <tr>\n",
              "        <td>New York City Cafe</td>\n",
              "        <td>New York City, NY</td>\n",
              "        <td>8:00am - 10:00pm</td>\n",
              "        <td>Ready Player One: A Novel</td>\n",
              "        <td>12.82</td>\n",
              "    </tr>\n",
              "    <tr>\n",
              "        <td>New York City Cafe</td>\n",
              "        <td>New York City, NY</td>\n",
              "        <td>8:00am - 10:00pm</td>\n",
              "        <td>The Martian</td>\n",
              "        <td>5.9</td>\n",
              "    </tr>\n",
              "    <tr>\n",
              "        <td>New York City Cafe</td>\n",
              "        <td>New York City, NY</td>\n",
              "        <td>8:00am - 10:00pm</td>\n",
              "        <td>Interstellar: The Official Movie Novelization</td>\n",
              "        <td>6.79</td>\n",
              "    </tr>\n",
              "    <tr>\n",
              "        <td>New York City Cafe</td>\n",
              "        <td>New York City, NY</td>\n",
              "        <td>8:00am - 10:00pm</td>\n",
              "        <td>Guns, Germs, and Steel: The Fates of Human Societies</td>\n",
              "        <td>5.75</td>\n",
              "    </tr>\n",
              "    <tr>\n",
              "        <td>New York City Cafe</td>\n",
              "        <td>New York City, NY</td>\n",
              "        <td>8:00am - 10:00pm</td>\n",
              "        <td>D-Day : The Battle for Normandy</td>\n",
              "        <td>5.59</td>\n",
              "    </tr>\n",
              "    <tr>\n",
              "        <td>New York City Cafe</td>\n",
              "        <td>New York City, NY</td>\n",
              "        <td>8:00am - 10:00pm</td>\n",
              "        <td>Stock Image Calculus, Student Solutions Manual: MV: Multivariable</td>\n",
              "        <td>13.6</td>\n",
              "    </tr>\n",
              "    <tr>\n",
              "        <td>New York City Cafe</td>\n",
              "        <td>New York City, NY</td>\n",
              "        <td>8:00am - 10:00pm</td>\n",
              "        <td>Objective-C (Spanish Edition)</td>\n",
              "        <td>25.8</td>\n",
              "    </tr>\n",
              "    <tr>\n",
              "        <td>West Chester Cafe</td>\n",
              "        <td>West Chester, PA</td>\n",
              "        <td>9:00am - 9:00pm</td>\n",
              "        <td>Stock Image Calculus, Student Solutions Manual: MV: Multivariable</td>\n",
              "        <td>13.6</td>\n",
              "    </tr>\n",
              "    <tr>\n",
              "        <td>West Chester Cafe</td>\n",
              "        <td>West Chester, PA</td>\n",
              "        <td>9:00am - 9:00pm</td>\n",
              "        <td>Objective-C (Spanish Edition)</td>\n",
              "        <td>25.8</td>\n",
              "    </tr>\n",
              "    <tr>\n",
              "        <td>West Chester Cafe</td>\n",
              "        <td>West Chester, PA</td>\n",
              "        <td>9:00am - 9:00pm</td>\n",
              "        <td>Shoe Dog: A Memoir by the Creator of Nike</td>\n",
              "        <td>11.38</td>\n",
              "    </tr>\n",
              "    <tr>\n",
              "        <td>West Chester Cafe</td>\n",
              "        <td>West Chester, PA</td>\n",
              "        <td>9:00am - 9:00pm</td>\n",
              "        <td>Steve Jobs</td>\n",
              "        <td>11.24</td>\n",
              "    </tr>\n",
              "    <tr>\n",
              "        <td>West Chester Cafe</td>\n",
              "        <td>West Chester, PA</td>\n",
              "        <td>9:00am - 9:00pm</td>\n",
              "        <td>Shoe Dog: A Memoir by the Creator of Nike</td>\n",
              "        <td>11.38</td>\n",
              "    </tr>\n",
              "    <tr>\n",
              "        <td>West Chester Cafe</td>\n",
              "        <td>West Chester, PA</td>\n",
              "        <td>9:00am - 9:00pm</td>\n",
              "        <td>Steve Jobs</td>\n",
              "        <td>11.24</td>\n",
              "    </tr>\n",
              "    <tr>\n",
              "        <td>West Chester Cafe</td>\n",
              "        <td>West Chester, PA</td>\n",
              "        <td>9:00am - 9:00pm</td>\n",
              "        <td>The Martian</td>\n",
              "        <td>5.9</td>\n",
              "    </tr>\n",
              "    <tr>\n",
              "        <td>West Chester Cafe</td>\n",
              "        <td>West Chester, PA</td>\n",
              "        <td>9:00am - 9:00pm</td>\n",
              "        <td>Interstellar: The Official Movie Novelization</td>\n",
              "        <td>6.79</td>\n",
              "    </tr>\n",
              "    <tr>\n",
              "        <td>West Chester Cafe</td>\n",
              "        <td>West Chester, PA</td>\n",
              "        <td>9:00am - 9:00pm</td>\n",
              "        <td>Guns, Germs, and Steel: The Fates of Human Societies</td>\n",
              "        <td>5.75</td>\n",
              "    </tr>\n",
              "    <tr>\n",
              "        <td>West Chester Cafe</td>\n",
              "        <td>West Chester, PA</td>\n",
              "        <td>9:00am - 9:00pm</td>\n",
              "        <td>D-Day : The Battle for Normandy</td>\n",
              "        <td>5.59</td>\n",
              "    </tr>\n",
              "    <tr>\n",
              "        <td>West Chester Cafe</td>\n",
              "        <td>West Chester, PA</td>\n",
              "        <td>9:00am - 9:00pm</td>\n",
              "        <td>Harry Potter And The Sorcerers Stone</td>\n",
              "        <td>11.99</td>\n",
              "    </tr>\n",
              "    <tr>\n",
              "        <td>West Chester Cafe</td>\n",
              "        <td>West Chester, PA</td>\n",
              "        <td>9:00am - 9:00pm</td>\n",
              "        <td>Ready Player One: A Novel</td>\n",
              "        <td>12.82</td>\n",
              "    </tr>\n",
              "    <tr>\n",
              "        <td>West Chester Cafe</td>\n",
              "        <td>West Chester, PA</td>\n",
              "        <td>9:00am - 9:00pm</td>\n",
              "        <td>Harry Potter And The Sorcerers Stone</td>\n",
              "        <td>11.99</td>\n",
              "    </tr>\n",
              "    <tr>\n",
              "        <td>West Chester Cafe</td>\n",
              "        <td>West Chester, PA</td>\n",
              "        <td>9:00am - 9:00pm</td>\n",
              "        <td>Ready Player One: A Novel</td>\n",
              "        <td>12.82</td>\n",
              "    </tr>\n",
              "    <tr>\n",
              "        <td>West Chester Cafe</td>\n",
              "        <td>West Chester, PA</td>\n",
              "        <td>9:00am - 9:00pm</td>\n",
              "        <td>The Martian</td>\n",
              "        <td>5.9</td>\n",
              "    </tr>\n",
              "    <tr>\n",
              "        <td>West Chester Cafe</td>\n",
              "        <td>West Chester, PA</td>\n",
              "        <td>9:00am - 9:00pm</td>\n",
              "        <td>Interstellar: The Official Movie Novelization</td>\n",
              "        <td>6.79</td>\n",
              "    </tr>\n",
              "    <tr>\n",
              "        <td>West Chester Cafe</td>\n",
              "        <td>West Chester, PA</td>\n",
              "        <td>9:00am - 9:00pm</td>\n",
              "        <td>Guns, Germs, and Steel: The Fates of Human Societies</td>\n",
              "        <td>5.75</td>\n",
              "    </tr>\n",
              "    <tr>\n",
              "        <td>West Chester Cafe</td>\n",
              "        <td>West Chester, PA</td>\n",
              "        <td>9:00am - 9:00pm</td>\n",
              "        <td>D-Day : The Battle for Normandy</td>\n",
              "        <td>5.59</td>\n",
              "    </tr>\n",
              "    <tr>\n",
              "        <td>West Chester Cafe</td>\n",
              "        <td>West Chester, PA</td>\n",
              "        <td>9:00am - 9:00pm</td>\n",
              "        <td>Stock Image Calculus, Student Solutions Manual: MV: Multivariable</td>\n",
              "        <td>13.6</td>\n",
              "    </tr>\n",
              "    <tr>\n",
              "        <td>West Chester Cafe</td>\n",
              "        <td>West Chester, PA</td>\n",
              "        <td>9:00am - 9:00pm</td>\n",
              "        <td>Objective-C (Spanish Edition)</td>\n",
              "        <td>25.8</td>\n",
              "    </tr>\n",
              "    <tr>\n",
              "        <td>Long Beach Cafe</td>\n",
              "        <td>Long Beach, CA</td>\n",
              "        <td>9:00am - 9:00pm</td>\n",
              "        <td>Stock Image Calculus, Student Solutions Manual: MV: Multivariable</td>\n",
              "        <td>13.6</td>\n",
              "    </tr>\n",
              "    <tr>\n",
              "        <td>Long Beach Cafe</td>\n",
              "        <td>Long Beach, CA</td>\n",
              "        <td>9:00am - 9:00pm</td>\n",
              "        <td>Objective-C (Spanish Edition)</td>\n",
              "        <td>25.8</td>\n",
              "    </tr>\n",
              "    <tr>\n",
              "        <td>Long Beach Cafe</td>\n",
              "        <td>Long Beach, CA</td>\n",
              "        <td>9:00am - 9:00pm</td>\n",
              "        <td>Shoe Dog: A Memoir by the Creator of Nike</td>\n",
              "        <td>11.38</td>\n",
              "    </tr>\n",
              "    <tr>\n",
              "        <td>Long Beach Cafe</td>\n",
              "        <td>Long Beach, CA</td>\n",
              "        <td>9:00am - 9:00pm</td>\n",
              "        <td>Steve Jobs</td>\n",
              "        <td>11.24</td>\n",
              "    </tr>\n",
              "    <tr>\n",
              "        <td>Long Beach Cafe</td>\n",
              "        <td>Long Beach, CA</td>\n",
              "        <td>9:00am - 9:00pm</td>\n",
              "        <td>Shoe Dog: A Memoir by the Creator of Nike</td>\n",
              "        <td>11.38</td>\n",
              "    </tr>\n",
              "    <tr>\n",
              "        <td>Long Beach Cafe</td>\n",
              "        <td>Long Beach, CA</td>\n",
              "        <td>9:00am - 9:00pm</td>\n",
              "        <td>Steve Jobs</td>\n",
              "        <td>11.24</td>\n",
              "    </tr>\n",
              "    <tr>\n",
              "        <td>Long Beach Cafe</td>\n",
              "        <td>Long Beach, CA</td>\n",
              "        <td>9:00am - 9:00pm</td>\n",
              "        <td>The Martian</td>\n",
              "        <td>5.9</td>\n",
              "    </tr>\n",
              "    <tr>\n",
              "        <td>Long Beach Cafe</td>\n",
              "        <td>Long Beach, CA</td>\n",
              "        <td>9:00am - 9:00pm</td>\n",
              "        <td>Interstellar: The Official Movie Novelization</td>\n",
              "        <td>6.79</td>\n",
              "    </tr>\n",
              "    <tr>\n",
              "        <td>Long Beach Cafe</td>\n",
              "        <td>Long Beach, CA</td>\n",
              "        <td>9:00am - 9:00pm</td>\n",
              "        <td>Guns, Germs, and Steel: The Fates of Human Societies</td>\n",
              "        <td>5.75</td>\n",
              "    </tr>\n",
              "    <tr>\n",
              "        <td>Long Beach Cafe</td>\n",
              "        <td>Long Beach, CA</td>\n",
              "        <td>9:00am - 9:00pm</td>\n",
              "        <td>D-Day : The Battle for Normandy</td>\n",
              "        <td>5.59</td>\n",
              "    </tr>\n",
              "    <tr>\n",
              "        <td>Long Beach Cafe</td>\n",
              "        <td>Long Beach, CA</td>\n",
              "        <td>9:00am - 9:00pm</td>\n",
              "        <td>Harry Potter And The Sorcerers Stone</td>\n",
              "        <td>11.99</td>\n",
              "    </tr>\n",
              "    <tr>\n",
              "        <td>Long Beach Cafe</td>\n",
              "        <td>Long Beach, CA</td>\n",
              "        <td>9:00am - 9:00pm</td>\n",
              "        <td>Ready Player One: A Novel</td>\n",
              "        <td>12.82</td>\n",
              "    </tr>\n",
              "    <tr>\n",
              "        <td>Long Beach Cafe</td>\n",
              "        <td>Long Beach, CA</td>\n",
              "        <td>9:00am - 9:00pm</td>\n",
              "        <td>Harry Potter And The Sorcerers Stone</td>\n",
              "        <td>11.99</td>\n",
              "    </tr>\n",
              "    <tr>\n",
              "        <td>Long Beach Cafe</td>\n",
              "        <td>Long Beach, CA</td>\n",
              "        <td>9:00am - 9:00pm</td>\n",
              "        <td>Ready Player One: A Novel</td>\n",
              "        <td>12.82</td>\n",
              "    </tr>\n",
              "    <tr>\n",
              "        <td>Long Beach Cafe</td>\n",
              "        <td>Long Beach, CA</td>\n",
              "        <td>9:00am - 9:00pm</td>\n",
              "        <td>The Martian</td>\n",
              "        <td>5.9</td>\n",
              "    </tr>\n",
              "    <tr>\n",
              "        <td>Long Beach Cafe</td>\n",
              "        <td>Long Beach, CA</td>\n",
              "        <td>9:00am - 9:00pm</td>\n",
              "        <td>Interstellar: The Official Movie Novelization</td>\n",
              "        <td>6.79</td>\n",
              "    </tr>\n",
              "    <tr>\n",
              "        <td>Long Beach Cafe</td>\n",
              "        <td>Long Beach, CA</td>\n",
              "        <td>9:00am - 9:00pm</td>\n",
              "        <td>Guns, Germs, and Steel: The Fates of Human Societies</td>\n",
              "        <td>5.75</td>\n",
              "    </tr>\n",
              "    <tr>\n",
              "        <td>Long Beach Cafe</td>\n",
              "        <td>Long Beach, CA</td>\n",
              "        <td>9:00am - 9:00pm</td>\n",
              "        <td>D-Day : The Battle for Normandy</td>\n",
              "        <td>5.59</td>\n",
              "    </tr>\n",
              "    <tr>\n",
              "        <td>Long Beach Cafe</td>\n",
              "        <td>Long Beach, CA</td>\n",
              "        <td>9:00am - 9:00pm</td>\n",
              "        <td>Stock Image Calculus, Student Solutions Manual: MV: Multivariable</td>\n",
              "        <td>13.6</td>\n",
              "    </tr>\n",
              "    <tr>\n",
              "        <td>Long Beach Cafe</td>\n",
              "        <td>Long Beach, CA</td>\n",
              "        <td>9:00am - 9:00pm</td>\n",
              "        <td>Objective-C (Spanish Edition)</td>\n",
              "        <td>25.8</td>\n",
              "    </tr>\n",
              "</table>"
            ],
            "text/plain": [
              "[('State College Cafe', 'State College, PA', '9:00am - 9:00pm', 'Stock Image Calculus, Student Solutions Manual: MV: Multivariable', 13.6),\n",
              " ('State College Cafe', 'State College, PA', '9:00am - 9:00pm', 'Objective-C (Spanish Edition)', 25.8),\n",
              " ('State College Cafe', 'State College, PA', '9:00am - 9:00pm', 'Shoe Dog: A Memoir by the Creator of Nike', 11.38),\n",
              " ('State College Cafe', 'State College, PA', '9:00am - 9:00pm', 'Steve Jobs', 11.24),\n",
              " ('State College Cafe', 'State College, PA', '9:00am - 9:00pm', 'Shoe Dog: A Memoir by the Creator of Nike', 11.38),\n",
              " ('State College Cafe', 'State College, PA', '9:00am - 9:00pm', 'Steve Jobs', 11.24),\n",
              " ('State College Cafe', 'State College, PA', '9:00am - 9:00pm', 'The Martian', 5.9),\n",
              " ('State College Cafe', 'State College, PA', '9:00am - 9:00pm', 'Interstellar: The Official Movie Novelization', 6.79),\n",
              " ('State College Cafe', 'State College, PA', '9:00am - 9:00pm', 'Guns, Germs, and Steel: The Fates of Human Societies', 5.75),\n",
              " ('State College Cafe', 'State College, PA', '9:00am - 9:00pm', 'D-Day : The Battle for Normandy', 5.59),\n",
              " ('State College Cafe', 'State College, PA', '9:00am - 9:00pm', 'Harry Potter And The Sorcerers Stone', 11.99),\n",
              " ('State College Cafe', 'State College, PA', '9:00am - 9:00pm', 'Ready Player One: A Novel', 12.82),\n",
              " ('State College Cafe', 'State College, PA', '9:00am - 9:00pm', 'Harry Potter And The Sorcerers Stone', 11.99),\n",
              " ('State College Cafe', 'State College, PA', '9:00am - 9:00pm', 'Ready Player One: A Novel', 12.82),\n",
              " ('State College Cafe', 'State College, PA', '9:00am - 9:00pm', 'The Martian', 5.9),\n",
              " ('State College Cafe', 'State College, PA', '9:00am - 9:00pm', 'Interstellar: The Official Movie Novelization', 6.79),\n",
              " ('State College Cafe', 'State College, PA', '9:00am - 9:00pm', 'Guns, Germs, and Steel: The Fates of Human Societies', 5.75),\n",
              " ('State College Cafe', 'State College, PA', '9:00am - 9:00pm', 'D-Day : The Battle for Normandy', 5.59),\n",
              " ('State College Cafe', 'State College, PA', '9:00am - 9:00pm', 'Stock Image Calculus, Student Solutions Manual: MV: Multivariable', 13.6),\n",
              " ('State College Cafe', 'State College, PA', '9:00am - 9:00pm', 'Objective-C (Spanish Edition)', 25.8),\n",
              " ('Philadelphia Cafe', 'Philadelphia, PA', '8:00am - 10:00pm', 'Stock Image Calculus, Student Solutions Manual: MV: Multivariable', 13.6),\n",
              " ('Philadelphia Cafe', 'Philadelphia, PA', '8:00am - 10:00pm', 'Objective-C (Spanish Edition)', 25.8),\n",
              " ('Philadelphia Cafe', 'Philadelphia, PA', '8:00am - 10:00pm', 'Shoe Dog: A Memoir by the Creator of Nike', 11.38),\n",
              " ('Philadelphia Cafe', 'Philadelphia, PA', '8:00am - 10:00pm', 'Steve Jobs', 11.24),\n",
              " ('Philadelphia Cafe', 'Philadelphia, PA', '8:00am - 10:00pm', 'Shoe Dog: A Memoir by the Creator of Nike', 11.38),\n",
              " ('Philadelphia Cafe', 'Philadelphia, PA', '8:00am - 10:00pm', 'Steve Jobs', 11.24),\n",
              " ('Philadelphia Cafe', 'Philadelphia, PA', '8:00am - 10:00pm', 'The Martian', 5.9),\n",
              " ('Philadelphia Cafe', 'Philadelphia, PA', '8:00am - 10:00pm', 'Interstellar: The Official Movie Novelization', 6.79),\n",
              " ('Philadelphia Cafe', 'Philadelphia, PA', '8:00am - 10:00pm', 'Guns, Germs, and Steel: The Fates of Human Societies', 5.75),\n",
              " ('Philadelphia Cafe', 'Philadelphia, PA', '8:00am - 10:00pm', 'D-Day : The Battle for Normandy', 5.59),\n",
              " ('Philadelphia Cafe', 'Philadelphia, PA', '8:00am - 10:00pm', 'Harry Potter And The Sorcerers Stone', 11.99),\n",
              " ('Philadelphia Cafe', 'Philadelphia, PA', '8:00am - 10:00pm', 'Ready Player One: A Novel', 12.82),\n",
              " ('Philadelphia Cafe', 'Philadelphia, PA', '8:00am - 10:00pm', 'Harry Potter And The Sorcerers Stone', 11.99),\n",
              " ('Philadelphia Cafe', 'Philadelphia, PA', '8:00am - 10:00pm', 'Ready Player One: A Novel', 12.82),\n",
              " ('Philadelphia Cafe', 'Philadelphia, PA', '8:00am - 10:00pm', 'The Martian', 5.9),\n",
              " ('Philadelphia Cafe', 'Philadelphia, PA', '8:00am - 10:00pm', 'Interstellar: The Official Movie Novelization', 6.79),\n",
              " ('Philadelphia Cafe', 'Philadelphia, PA', '8:00am - 10:00pm', 'Guns, Germs, and Steel: The Fates of Human Societies', 5.75),\n",
              " ('Philadelphia Cafe', 'Philadelphia, PA', '8:00am - 10:00pm', 'D-Day : The Battle for Normandy', 5.59),\n",
              " ('Philadelphia Cafe', 'Philadelphia, PA', '8:00am - 10:00pm', 'Stock Image Calculus, Student Solutions Manual: MV: Multivariable', 13.6),\n",
              " ('Philadelphia Cafe', 'Philadelphia, PA', '8:00am - 10:00pm', 'Objective-C (Spanish Edition)', 25.8),\n",
              " ('New York City Cafe', 'New York City, NY', '8:00am - 10:00pm', 'Stock Image Calculus, Student Solutions Manual: MV: Multivariable', 13.6),\n",
              " ('New York City Cafe', 'New York City, NY', '8:00am - 10:00pm', 'Objective-C (Spanish Edition)', 25.8),\n",
              " ('New York City Cafe', 'New York City, NY', '8:00am - 10:00pm', 'Shoe Dog: A Memoir by the Creator of Nike', 11.38),\n",
              " ('New York City Cafe', 'New York City, NY', '8:00am - 10:00pm', 'Steve Jobs', 11.24),\n",
              " ('New York City Cafe', 'New York City, NY', '8:00am - 10:00pm', 'Shoe Dog: A Memoir by the Creator of Nike', 11.38),\n",
              " ('New York City Cafe', 'New York City, NY', '8:00am - 10:00pm', 'Steve Jobs', 11.24),\n",
              " ('New York City Cafe', 'New York City, NY', '8:00am - 10:00pm', 'The Martian', 5.9),\n",
              " ('New York City Cafe', 'New York City, NY', '8:00am - 10:00pm', 'Interstellar: The Official Movie Novelization', 6.79),\n",
              " ('New York City Cafe', 'New York City, NY', '8:00am - 10:00pm', 'Guns, Germs, and Steel: The Fates of Human Societies', 5.75),\n",
              " ('New York City Cafe', 'New York City, NY', '8:00am - 10:00pm', 'D-Day : The Battle for Normandy', 5.59),\n",
              " ('New York City Cafe', 'New York City, NY', '8:00am - 10:00pm', 'Harry Potter And The Sorcerers Stone', 11.99),\n",
              " ('New York City Cafe', 'New York City, NY', '8:00am - 10:00pm', 'Ready Player One: A Novel', 12.82),\n",
              " ('New York City Cafe', 'New York City, NY', '8:00am - 10:00pm', 'Harry Potter And The Sorcerers Stone', 11.99),\n",
              " ('New York City Cafe', 'New York City, NY', '8:00am - 10:00pm', 'Ready Player One: A Novel', 12.82),\n",
              " ('New York City Cafe', 'New York City, NY', '8:00am - 10:00pm', 'The Martian', 5.9),\n",
              " ('New York City Cafe', 'New York City, NY', '8:00am - 10:00pm', 'Interstellar: The Official Movie Novelization', 6.79),\n",
              " ('New York City Cafe', 'New York City, NY', '8:00am - 10:00pm', 'Guns, Germs, and Steel: The Fates of Human Societies', 5.75),\n",
              " ('New York City Cafe', 'New York City, NY', '8:00am - 10:00pm', 'D-Day : The Battle for Normandy', 5.59),\n",
              " ('New York City Cafe', 'New York City, NY', '8:00am - 10:00pm', 'Stock Image Calculus, Student Solutions Manual: MV: Multivariable', 13.6),\n",
              " ('New York City Cafe', 'New York City, NY', '8:00am - 10:00pm', 'Objective-C (Spanish Edition)', 25.8),\n",
              " ('West Chester Cafe', 'West Chester, PA', '9:00am - 9:00pm', 'Stock Image Calculus, Student Solutions Manual: MV: Multivariable', 13.6),\n",
              " ('West Chester Cafe', 'West Chester, PA', '9:00am - 9:00pm', 'Objective-C (Spanish Edition)', 25.8),\n",
              " ('West Chester Cafe', 'West Chester, PA', '9:00am - 9:00pm', 'Shoe Dog: A Memoir by the Creator of Nike', 11.38),\n",
              " ('West Chester Cafe', 'West Chester, PA', '9:00am - 9:00pm', 'Steve Jobs', 11.24),\n",
              " ('West Chester Cafe', 'West Chester, PA', '9:00am - 9:00pm', 'Shoe Dog: A Memoir by the Creator of Nike', 11.38),\n",
              " ('West Chester Cafe', 'West Chester, PA', '9:00am - 9:00pm', 'Steve Jobs', 11.24),\n",
              " ('West Chester Cafe', 'West Chester, PA', '9:00am - 9:00pm', 'The Martian', 5.9),\n",
              " ('West Chester Cafe', 'West Chester, PA', '9:00am - 9:00pm', 'Interstellar: The Official Movie Novelization', 6.79),\n",
              " ('West Chester Cafe', 'West Chester, PA', '9:00am - 9:00pm', 'Guns, Germs, and Steel: The Fates of Human Societies', 5.75),\n",
              " ('West Chester Cafe', 'West Chester, PA', '9:00am - 9:00pm', 'D-Day : The Battle for Normandy', 5.59),\n",
              " ('West Chester Cafe', 'West Chester, PA', '9:00am - 9:00pm', 'Harry Potter And The Sorcerers Stone', 11.99),\n",
              " ('West Chester Cafe', 'West Chester, PA', '9:00am - 9:00pm', 'Ready Player One: A Novel', 12.82),\n",
              " ('West Chester Cafe', 'West Chester, PA', '9:00am - 9:00pm', 'Harry Potter And The Sorcerers Stone', 11.99),\n",
              " ('West Chester Cafe', 'West Chester, PA', '9:00am - 9:00pm', 'Ready Player One: A Novel', 12.82),\n",
              " ('West Chester Cafe', 'West Chester, PA', '9:00am - 9:00pm', 'The Martian', 5.9),\n",
              " ('West Chester Cafe', 'West Chester, PA', '9:00am - 9:00pm', 'Interstellar: The Official Movie Novelization', 6.79),\n",
              " ('West Chester Cafe', 'West Chester, PA', '9:00am - 9:00pm', 'Guns, Germs, and Steel: The Fates of Human Societies', 5.75),\n",
              " ('West Chester Cafe', 'West Chester, PA', '9:00am - 9:00pm', 'D-Day : The Battle for Normandy', 5.59),\n",
              " ('West Chester Cafe', 'West Chester, PA', '9:00am - 9:00pm', 'Stock Image Calculus, Student Solutions Manual: MV: Multivariable', 13.6),\n",
              " ('West Chester Cafe', 'West Chester, PA', '9:00am - 9:00pm', 'Objective-C (Spanish Edition)', 25.8),\n",
              " ('Long Beach Cafe', 'Long Beach, CA', '9:00am - 9:00pm', 'Stock Image Calculus, Student Solutions Manual: MV: Multivariable', 13.6),\n",
              " ('Long Beach Cafe', 'Long Beach, CA', '9:00am - 9:00pm', 'Objective-C (Spanish Edition)', 25.8),\n",
              " ('Long Beach Cafe', 'Long Beach, CA', '9:00am - 9:00pm', 'Shoe Dog: A Memoir by the Creator of Nike', 11.38),\n",
              " ('Long Beach Cafe', 'Long Beach, CA', '9:00am - 9:00pm', 'Steve Jobs', 11.24),\n",
              " ('Long Beach Cafe', 'Long Beach, CA', '9:00am - 9:00pm', 'Shoe Dog: A Memoir by the Creator of Nike', 11.38),\n",
              " ('Long Beach Cafe', 'Long Beach, CA', '9:00am - 9:00pm', 'Steve Jobs', 11.24),\n",
              " ('Long Beach Cafe', 'Long Beach, CA', '9:00am - 9:00pm', 'The Martian', 5.9),\n",
              " ('Long Beach Cafe', 'Long Beach, CA', '9:00am - 9:00pm', 'Interstellar: The Official Movie Novelization', 6.79),\n",
              " ('Long Beach Cafe', 'Long Beach, CA', '9:00am - 9:00pm', 'Guns, Germs, and Steel: The Fates of Human Societies', 5.75),\n",
              " ('Long Beach Cafe', 'Long Beach, CA', '9:00am - 9:00pm', 'D-Day : The Battle for Normandy', 5.59),\n",
              " ('Long Beach Cafe', 'Long Beach, CA', '9:00am - 9:00pm', 'Harry Potter And The Sorcerers Stone', 11.99),\n",
              " ('Long Beach Cafe', 'Long Beach, CA', '9:00am - 9:00pm', 'Ready Player One: A Novel', 12.82),\n",
              " ('Long Beach Cafe', 'Long Beach, CA', '9:00am - 9:00pm', 'Harry Potter And The Sorcerers Stone', 11.99),\n",
              " ('Long Beach Cafe', 'Long Beach, CA', '9:00am - 9:00pm', 'Ready Player One: A Novel', 12.82),\n",
              " ('Long Beach Cafe', 'Long Beach, CA', '9:00am - 9:00pm', 'The Martian', 5.9),\n",
              " ('Long Beach Cafe', 'Long Beach, CA', '9:00am - 9:00pm', 'Interstellar: The Official Movie Novelization', 6.79),\n",
              " ('Long Beach Cafe', 'Long Beach, CA', '9:00am - 9:00pm', 'Guns, Germs, and Steel: The Fates of Human Societies', 5.75),\n",
              " ('Long Beach Cafe', 'Long Beach, CA', '9:00am - 9:00pm', 'D-Day : The Battle for Normandy', 5.59),\n",
              " ('Long Beach Cafe', 'Long Beach, CA', '9:00am - 9:00pm', 'Stock Image Calculus, Student Solutions Manual: MV: Multivariable', 13.6),\n",
              " ('Long Beach Cafe', 'Long Beach, CA', '9:00am - 9:00pm', 'Objective-C (Spanish Edition)', 25.8)]"
            ]
          },
          "metadata": {
            "tags": []
          },
          "execution_count": 70
        }
      ]
    },
    {
      "cell_type": "markdown",
      "metadata": {
        "id": "fZCb_Bby3D6E",
        "colab_type": "text"
      },
      "source": [
        "This is a database that has all the information about the bookstore. That includes the café, the address, the hours, and every book that is sold in the bookstore. Also, it has the price next to it so anyone who is looking for a book can easily find where, when, and how much they need to pay for it.\n"
      ]
    },
    {
      "cell_type": "code",
      "metadata": {
        "id": "bmjCW7iivL60",
        "colab_type": "code",
        "colab": {
          "base_uri": "https://localhost:8080/",
          "height": 473
        },
        "outputId": "944dc7b7-89d1-48c1-d11c-7d3caff6748a"
      },
      "source": [
        "%%sql \n",
        "select FirstName, LastName, EmployeeStoreCode, PhoneNumber from Employees group by FirstName\n"
      ],
      "execution_count": 62,
      "outputs": [
        {
          "output_type": "stream",
          "text": [
            " * sqlite:///bookstore.db\n",
            "Done.\n"
          ],
          "name": "stdout"
        },
        {
          "output_type": "execute_result",
          "data": {
            "text/html": [
              "<table>\n",
              "    <tr>\n",
              "        <th>FirstName</th>\n",
              "        <th>LastName</th>\n",
              "        <th>EmployeeStoreCode</th>\n",
              "        <th>PhoneNumber</th>\n",
              "    </tr>\n",
              "    <tr>\n",
              "        <td>Abigail</td>\n",
              "        <td>Johnson</td>\n",
              "        <td>WC_Employee</td>\n",
              "        <td>(399) 934-4238</td>\n",
              "    </tr>\n",
              "    <tr>\n",
              "        <td>Allison</td>\n",
              "        <td>Johnson</td>\n",
              "        <td>SC_Employee</td>\n",
              "        <td>(610) 348-4982</td>\n",
              "    </tr>\n",
              "    <tr>\n",
              "        <td>Anthony</td>\n",
              "        <td>McMorris</td>\n",
              "        <td>NYC_Employee</td>\n",
              "        <td>(134) 430-1238</td>\n",
              "    </tr>\n",
              "    <tr>\n",
              "        <td>Christopher</td>\n",
              "        <td>Anderson</td>\n",
              "        <td>Phi_Cafe_Employee</td>\n",
              "        <td>(203) 834-2139</td>\n",
              "    </tr>\n",
              "    <tr>\n",
              "        <td>David</td>\n",
              "        <td>Brown</td>\n",
              "        <td>SC_Employee</td>\n",
              "        <td>(324) 303-3042</td>\n",
              "    </tr>\n",
              "    <tr>\n",
              "        <td>Jacob</td>\n",
              "        <td>Joseph</td>\n",
              "        <td>LB_Cafe_Employee</td>\n",
              "        <td>(765) 239-9034</td>\n",
              "    </tr>\n",
              "    <tr>\n",
              "        <td>Jennifer</td>\n",
              "        <td>Jones</td>\n",
              "        <td>SC_Cafe_Employee</td>\n",
              "        <td>(422) 349-1230</td>\n",
              "    </tr>\n",
              "    <tr>\n",
              "        <td>John</td>\n",
              "        <td>Edwards</td>\n",
              "        <td>LB_Employee</td>\n",
              "        <td>(610) 392-3942</td>\n",
              "    </tr>\n",
              "    <tr>\n",
              "        <td>Kevin</td>\n",
              "        <td>Tatu</td>\n",
              "        <td>WC_Cafe_Employee</td>\n",
              "        <td>(984) 238-0934</td>\n",
              "    </tr>\n",
              "    <tr>\n",
              "        <td>Laura</td>\n",
              "        <td>Da Silva</td>\n",
              "        <td>LB_Employee</td>\n",
              "        <td>(484) 120-3290</td>\n",
              "    </tr>\n",
              "    <tr>\n",
              "        <td>Mark</td>\n",
              "        <td>Homes</td>\n",
              "        <td>WC_Employee</td>\n",
              "        <td>(123) 459-2390</td>\n",
              "    </tr>\n",
              "    <tr>\n",
              "        <td>Melissa</td>\n",
              "        <td>Roberts</td>\n",
              "        <td>NYC_Employee</td>\n",
              "        <td>(245) 239-4589</td>\n",
              "    </tr>\n",
              "    <tr>\n",
              "        <td>Nancy</td>\n",
              "        <td>Jones</td>\n",
              "        <td>NYC_Employee</td>\n",
              "        <td>(239) 439-2039</td>\n",
              "    </tr>\n",
              "    <tr>\n",
              "        <td>Rebecca</td>\n",
              "        <td>Knight</td>\n",
              "        <td>NYC_Cafe_Employee</td>\n",
              "        <td>(902) 238-2093</td>\n",
              "    </tr>\n",
              "    <tr>\n",
              "        <td>Richard</td>\n",
              "        <td>Wilson</td>\n",
              "        <td>Phi_Employee</td>\n",
              "        <td>(234) 432-9912</td>\n",
              "    </tr>\n",
              "    <tr>\n",
              "        <td>Ryan</td>\n",
              "        <td>Lin</td>\n",
              "        <td>LB_Employee</td>\n",
              "        <td>(679) 237-6742</td>\n",
              "    </tr>\n",
              "    <tr>\n",
              "        <td>Susan</td>\n",
              "        <td>Davis</td>\n",
              "        <td>Phi_Employee</td>\n",
              "        <td>(983) 234-5423</td>\n",
              "    </tr>\n",
              "    <tr>\n",
              "        <td>Thomas</td>\n",
              "        <td>Miller</td>\n",
              "        <td>Phi_Employee</td>\n",
              "        <td>(345) 456-0989</td>\n",
              "    </tr>\n",
              "    <tr>\n",
              "        <td>Tony</td>\n",
              "        <td>Smith</td>\n",
              "        <td>WC_Employee</td>\n",
              "        <td>(733) 323-9432</td>\n",
              "    </tr>\n",
              "</table>"
            ],
            "text/plain": [
              "[('Abigail', 'Johnson', 'WC_Employee', '(399) 934-4238'),\n",
              " ('Allison', 'Johnson', 'SC_Employee', '(610) 348-4982'),\n",
              " ('Anthony', 'McMorris', 'NYC_Employee', '(134) 430-1238'),\n",
              " ('Christopher', 'Anderson', 'Phi_Cafe_Employee', '(203) 834-2139'),\n",
              " ('David', 'Brown', 'SC_Employee', '(324) 303-3042'),\n",
              " ('Jacob', 'Joseph', 'LB_Cafe_Employee', '(765) 239-9034'),\n",
              " ('Jennifer', 'Jones', 'SC_Cafe_Employee', '(422) 349-1230'),\n",
              " ('John', 'Edwards', 'LB_Employee', '(610) 392-3942'),\n",
              " ('Kevin', 'Tatu', 'WC_Cafe_Employee', '(984) 238-0934'),\n",
              " ('Laura', 'Da Silva', 'LB_Employee', '(484) 120-3290'),\n",
              " ('Mark', 'Homes', 'WC_Employee', '(123) 459-2390'),\n",
              " ('Melissa', 'Roberts', 'NYC_Employee', '(245) 239-4589'),\n",
              " ('Nancy', 'Jones', 'NYC_Employee', '(239) 439-2039'),\n",
              " ('Rebecca', 'Knight', 'NYC_Cafe_Employee', '(902) 238-2093'),\n",
              " ('Richard', 'Wilson', 'Phi_Employee', '(234) 432-9912'),\n",
              " ('Ryan', 'Lin', 'LB_Employee', '(679) 237-6742'),\n",
              " ('Susan', 'Davis', 'Phi_Employee', '(983) 234-5423'),\n",
              " ('Thomas', 'Miller', 'Phi_Employee', '(345) 456-0989'),\n",
              " ('Tony', 'Smith', 'WC_Employee', '(733) 323-9432')]"
            ]
          },
          "metadata": {
            "tags": []
          },
          "execution_count": 62
        }
      ]
    },
    {
      "cell_type": "markdown",
      "metadata": {
        "id": "9qaI4vDN1WsC",
        "colab_type": "text"
      },
      "source": [
        "If we alphabetize the names it is easier to find their information and If they are not on their shift the number is right next to their name so they could call them as soon as possible. Also, there is an employee store code so we could determine where this employee is stationed."
      ]
    },
    {
      "cell_type": "code",
      "metadata": {
        "id": "PRrXrnODwJ2F",
        "colab_type": "code",
        "outputId": "814f57aa-3e7b-4a85-d947-1064c2c447a6",
        "colab": {
          "base_uri": "https://localhost:8080/",
          "height": 284
        }
      },
      "source": [
        "%%sql \n",
        "select PublisherID, PhoneNumber from Publishers;"
      ],
      "execution_count": 0,
      "outputs": [
        {
          "output_type": "stream",
          "text": [
            " * sqlite:///bookstore.db\n",
            "Done.\n"
          ],
          "name": "stdout"
        },
        {
          "output_type": "execute_result",
          "data": {
            "text/html": [
              "<table>\n",
              "    <tr>\n",
              "        <th>PublisherID</th>\n",
              "        <th>PhoneNumber</th>\n",
              "    </tr>\n",
              "    <tr>\n",
              "        <td>Gulf Coast Books</td>\n",
              "        <td>(832) 430-0788</td>\n",
              "    </tr>\n",
              "    <tr>\n",
              "        <td>Discover Books</td>\n",
              "        <td>(855) 702-6657</td>\n",
              "    </tr>\n",
              "    <tr>\n",
              "        <td>Hippo Books</td>\n",
              "        <td>(419) 241-3700</td>\n",
              "    </tr>\n",
              "    <tr>\n",
              "        <td>Ginny6Books</td>\n",
              "        <td>(493) 750-9022</td>\n",
              "    </tr>\n",
              "    <tr>\n",
              "        <td>Ebury Press</td>\n",
              "        <td>44 (0)20 7840 8400</td>\n",
              "    </tr>\n",
              "    <tr>\n",
              "        <td>Titan Books</td>\n",
              "        <td>(800) 729-2960</td>\n",
              "    </tr>\n",
              "    <tr>\n",
              "        <td>W. W. Norton &amp; Company</td>\n",
              "        <td>(212) 354-5500</td>\n",
              "    </tr>\n",
              "    <tr>\n",
              "        <td>Penguin Publishing Group</td>\n",
              "        <td>(201) 933-9292</td>\n",
              "    </tr>\n",
              "    <tr>\n",
              "        <td>Scholastic Press</td>\n",
              "        <td>(201) 633-2400</td>\n",
              "    </tr>\n",
              "    <tr>\n",
              "        <td>Ballantine Books</td>\n",
              "        <td>(212) 782-9000</td>\n",
              "    </tr>\n",
              "</table>"
            ],
            "text/plain": [
              "[('Gulf Coast Books', '(832) 430-0788'),\n",
              " ('Discover Books', '(855) 702-6657'),\n",
              " ('Hippo Books', '(419) 241-3700'),\n",
              " ('Ginny6Books', '(493) 750-9022'),\n",
              " ('Ebury Press', '44 (0)20 7840 8400'),\n",
              " ('Titan Books', '(800) 729-2960'),\n",
              " ('W. W. Norton & Company', '(212) 354-5500'),\n",
              " ('Penguin Publishing Group', '(201) 933-9292'),\n",
              " ('Scholastic Press', '(201) 633-2400'),\n",
              " ('Ballantine Books', '(212) 782-9000')]"
            ]
          },
          "metadata": {
            "tags": []
          },
          "execution_count": 30
        }
      ]
    },
    {
      "cell_type": "code",
      "metadata": {
        "id": "a3OwFFsZzFJg",
        "colab_type": "code",
        "colab": {
          "base_uri": "https://localhost:8080/",
          "height": 95
        },
        "outputId": "5d83895e-c082-4be2-c960-0d5f2acaca01"
      },
      "source": [
        "%%sql\n",
        "select count(*) from Employees;"
      ],
      "execution_count": 44,
      "outputs": [
        {
          "output_type": "stream",
          "text": [
            " * sqlite:///bookstore.db\n",
            "Done.\n"
          ],
          "name": "stdout"
        },
        {
          "output_type": "execute_result",
          "data": {
            "text/html": [
              "<table>\n",
              "    <tr>\n",
              "        <th>count(*)</th>\n",
              "    </tr>\n",
              "    <tr>\n",
              "        <td>20</td>\n",
              "    </tr>\n",
              "</table>"
            ],
            "text/plain": [
              "[(20,)]"
            ]
          },
          "metadata": {
            "tags": []
          },
          "execution_count": 44
        }
      ]
    },
    {
      "cell_type": "markdown",
      "metadata": {
        "id": "gu6lBFEZzUvX",
        "colab_type": "text"
      },
      "source": [
        "It is important to know how many employees a company has because it determines how much salary we need to give them and as well as how many employees we need to place for each shift. Also because the bookstore has a supper café we need to know how many of each employee should be divided into working on and which section they would be working on.\n",
        "\n"
      ]
    }
  ]
}