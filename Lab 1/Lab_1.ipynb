{
  "nbformat": 4,
  "nbformat_minor": 0,
  "metadata": {
    "colab": {
      "name": "Lab 1.ipynb",
      "provenance": [],
      "authorship_tag": "ABX9TyMY9WKoSa5oFsqxbmoV4yvw",
      "include_colab_link": true
    },
    "kernelspec": {
      "name": "python3",
      "display_name": "Python 3"
    }
  },
  "cells": [
    {
      "cell_type": "markdown",
      "metadata": {
        "id": "view-in-github",
        "colab_type": "text"
      },
      "source": [
        "<a href=\"https://colab.research.google.com/github/jyoojin132/IST210-Spring2020/blob/master/Lab%201/Lab_1.ipynb\" target=\"_parent\"><img src=\"https://colab.research.google.com/assets/colab-badge.svg\" alt=\"Open In Colab\"/></a>"
      ]
    },
    {
      "cell_type": "markdown",
      "metadata": {
        "id": "gqbNDpps6P8_",
        "colab_type": "text"
      },
      "source": [
        "###Your Name\n",
        "\n",
        "Yoo Jin Jeong\n"
      ]
    },
    {
      "cell_type": "markdown",
      "metadata": {
        "id": "PrGcXE0H6VL0",
        "colab_type": "text"
      },
      "source": [
        "### Your IST related interests\n",
        "I am more interested in Design and Devlopement asspect of IST"
      ]
    },
    {
      "cell_type": "markdown",
      "metadata": {
        "id": "UM7EvhKZ6aeC",
        "colab_type": "text"
      },
      "source": [
        "### Your future job/career\n",
        "\n",
        "I really to be coding and designing programs all the time.\n",
        "\n",
        "\n"
      ]
    },
    {
      "cell_type": "markdown",
      "metadata": {
        "id": "GBWywgBVFo0w",
        "colab_type": "text"
      },
      "source": [
        "###Picture\n",
        "![alt text](https://github.com/jyoojin132/IST210-Spring2020/blob/master/pictures.jpg?raw=true)"
      ]
    }
  ]
}