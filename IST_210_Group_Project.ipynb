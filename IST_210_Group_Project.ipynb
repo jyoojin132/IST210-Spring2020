{
  "nbformat": 4,
  "nbformat_minor": 0,
  "metadata": {
    "colab": {
      "name": "IST 210 Group Project.ipynb",
      "provenance": [],
      "include_colab_link": true
    },
    "kernelspec": {
      "name": "python3",
      "display_name": "Python 3"
    }
  },
  "cells": [
    {
      "cell_type": "markdown",
      "metadata": {
        "id": "view-in-github",
        "colab_type": "text"
      },
      "source": [
        "<a href=\"https://colab.research.google.com/github/jyoojin132/IST210-Spring2020/blob/master/IST_210_Group_Project.ipynb\" target=\"_parent\"><img src=\"https://colab.research.google.com/assets/colab-badge.svg\" alt=\"Open In Colab\"/></a>"
      ]
    },
    {
      "cell_type": "markdown",
      "metadata": {
        "id": "uHrpT0Ir_OIJ",
        "colab_type": "text"
      },
      "source": [
        "<p> 1. Book Store business</p>\n",
        "<p>Our idea is for a Bookstore business. We plan to gather data regarding the customers’ wants such as the book they are looking for, the genre, where it is located, the price, and whether or not they want to utilize the cafe. This idea is unique as it uses information and data from a bookstore and uses it to convey typical data that would be collected in a scenario similar. This business is not brand new as it borrows from the bookstore Blueprint and we liked this business because we can add and change structures within the business. A typical interaction at the bookstore would go as follows: a customer interacts with the store employee looking for a book. The employee asks what the title and genre of the book is. Using this information the employee can find the aisle based on the genre of the book. The customer is told the price of the book and asks whether or not there is a cafe available for refreshments. He/she/them is then informed of the availability of said cafe and we can get the information for how many consumers there are and how much money is made in the bookstore. The goal with the data collected using this database model would be too see which books are more popular and whether or not a cafe being present is a beneficial attribute. Also, we can figure out which genre of books is selling the most and the bookstore can make major decisions to become a successful business.</p>\n",
        "\n",
        "<p>\n",
        "Tables\n",
        "</p>\n",
        " <ul>\n",
        "<li>Store employees</li>\n",
        "<li>Aisle of what books are located</li>\n",
        "<li>Items and their cost</li>\n",
        "<li>Genres of books</li>\n",
        "<li>If there is a Cafe inside store or not</li>\n",
        "</ul>\n",
        "[link text](https://drive.google.com/file/d/1JvDY1wyn-lwiKH3nEW0eGEovfKiShH02/view?usp=sharing)\n"
      ]
    },
    {
      "cell_type": "markdown",
      "metadata": {
        "id": "yvQuCsDRl8mK",
        "colab_type": "text"
      },
      "source": [
        ""
      ]
    },
    {
      "cell_type": "markdown",
      "metadata": {
        "id": "SemIAlKOjrVn",
        "colab_type": "text"
      },
      "source": [
        "<p> 2. Farm Business</p>\n",
        "<p>Our idea is to for a farm business that selling everything related to farming. This will help make interactions between customers and sellers easier and more accessible to sell and buy products. The products will include livestock, fruits, crops, and equipment that can we used for farming. Our idea is to help consumers to get the products they want as convenient as they can so, there will be information about what type of product, what type of animals, what type of farming equipment, all of its prices will be provided. This is borrowed from another business but we added some new aspects to the business by having really livestock in the store but, it is unique because most stores do not sell live animals and other products in one store. A typical business interaction would mostly be people buying and selling products that were produced that day at the farm, and the employees will be interacting with the customers to sell the products for the day. Also, there will be more business bring in the products to the store, but in this scenario, there it will only mainly focus on the buying and selling perspective of the store. The goal is to have to get how many items are being sold and which items are being sold the most through the tables from the items and their cost. Also, through this data, we can figure out which item is the most popular and stock more of those items for the next business. </p>\n",
        "\n",
        "<p>\n",
        "Tables\n",
        "</p>\n",
        " <ul>\n",
        "<li>Store employees</li>\n",
        "<li>Store Aisles</li>\n",
        "<li>Animal (type, costs)</li>\n",
        "<li>Crops (type, costs)</li>\n",
        "<li>Fruits (type, costs)</li>\n",
        "<li>Equipment (type, costs)</li>\n",
        "</ul>\n",
        "[link text](https://drive.google.com/file/d/1JvDY1wyn-lwiKH3nEW0eGEovfKiShH02/view?usp=sharing)"
      ]
    },
    {
      "cell_type": "markdown",
      "metadata": {
        "colab_type": "text",
        "id": "MmLpEPK2k99w"
      },
      "source": [
        "<p>3. Airport</p>\n",
        "<p>Our idea is to gather information about flight patterns and ticket costs, to help make air travel information more accessible to the people. By compiling critical flight information for the consumers, it should help reduce the consumers’ research time and layout all the relevant data for the consumer to use. Also, the air This information will help the consumer to determine the location of the airport, total flight time, the company that they would be flying with, the type of class the consumer will be flying in, and what part of the airport the consumer will need to be in to catch the flight. This idea has been implemented by many companies already, like Kayak and Expedia. A typical business day would involve many interactions between consumers and ticket suppliers and we can help consumers find the best tickets offered for that time. The consumers would need to be able to access the databases containing information about flight details and costs. The suppliers would need to access the database regarding how many tickets are still available. The goal for this project is to help consumers make cost-effective decisions on the means of transportation while also helping suppliers to determine which flights and specific details are the most popular among consumers. </p>\n",
        "<p> Tables</p>\n",
        "<ul>\n",
        "<li>Cost of Ticket</li>\n",
        "<li>Time of departure</li> \n",
        "<li>Plane to gate number</li> \n",
        "<li>Plane Company (Delta, American Airlines, etc.)</li>\n",
        "<li>Departure Airport </li>\n",
        "<li>Arrival Airport </li>\n",
        "<li>Class</li>\n",
        " </ul>\n",
        " [link text](https://drive.google.com/file/d/1ZrH8T0PnUdkd6JJ-b7wm1vLrtZ1jVu3H/view?usp=sharing)\n",
        "\n",
        " "
      ]
    }
  ]
}